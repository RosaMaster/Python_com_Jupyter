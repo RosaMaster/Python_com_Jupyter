{
 "cells": [
  {
   "cell_type": "markdown",
   "id": "2e405ecd",
   "metadata": {},
   "source": [
    "### Condição\n",
    "\n",
    "if condição():\n",
    "    bloco Verdadeiro\n",
    "else:\n",
    "    bloco Falso"
   ]
  },
  {
   "cell_type": "markdown",
   "id": "77521d57",
   "metadata": {},
   "source": [
    "### exemplo 01"
   ]
  },
  {
   "cell_type": "code",
   "execution_count": 1,
   "id": "9ca6d710",
   "metadata": {},
   "outputs": [
    {
     "name": "stdout",
     "output_type": "stream",
     "text": [
      "Quantos anos tem seu carro? 4\n"
     ]
    }
   ],
   "source": [
    "tempo = int(input(\"Quantos anos tem seu carro? \"))"
   ]
  },
  {
   "cell_type": "code",
   "execution_count": 2,
   "id": "6623b083",
   "metadata": {},
   "outputs": [
    {
     "name": "stdout",
     "output_type": "stream",
     "text": [
      "carro velho\n",
      "---FIM---\n"
     ]
    }
   ],
   "source": [
    "if tempo <=3:\n",
    "    print('carro novo')\n",
    "else:\n",
    "    print('carro velho')\n",
    "print('---FIM---')"
   ]
  },
  {
   "cell_type": "markdown",
   "id": "9c95d9f9",
   "metadata": {},
   "source": [
    "### exemplo 02"
   ]
  },
  {
   "cell_type": "code",
   "execution_count": 4,
   "id": "864c06b3",
   "metadata": {},
   "outputs": [
    {
     "name": "stdout",
     "output_type": "stream",
     "text": [
      "Qual é o seu nome? Eduardo\n",
      "Que nome lindo você tem!\n",
      "Bom dia, Eduardo.\n"
     ]
    }
   ],
   "source": [
    "nome = str(input(\"Qual é o seu nome? \"))\n",
    "if nome == 'Eduardo':\n",
    "    print(f\"Que nome lindo você tem!\")\n",
    "print(f\"Bom dia, {nome}.\")"
   ]
  },
  {
   "cell_type": "code",
   "execution_count": null,
   "id": "9ae14d9a",
   "metadata": {},
   "outputs": [],
   "source": []
  }
 ],
 "metadata": {
  "kernelspec": {
   "display_name": "Python 3 (ipykernel)",
   "language": "python",
   "name": "python3"
  },
  "language_info": {
   "codemirror_mode": {
    "name": "ipython",
    "version": 3
   },
   "file_extension": ".py",
   "mimetype": "text/x-python",
   "name": "python",
   "nbconvert_exporter": "python",
   "pygments_lexer": "ipython3",
   "version": "3.9.7"
  }
 },
 "nbformat": 4,
 "nbformat_minor": 5
}
