{
 "cells": [
  {
   "cell_type": "markdown",
   "id": "423418c7",
   "metadata": {},
   "source": [
    "# DESAFIO 05 - Python\n",
    "#### Faça um programa que leia um número inteiro e meostre na tela o seu sucessor e seu antecessor."
   ]
  },
  {
   "cell_type": "code",
   "execution_count": 1,
   "id": "e1868e9e",
   "metadata": {},
   "outputs": [
    {
     "name": "stdout",
     "output_type": "stream",
     "text": [
      "Informe um número: 10\n"
     ]
    }
   ],
   "source": [
    "num = int(input(\"Informe um número: \"))"
   ]
  },
  {
   "cell_type": "code",
   "execution_count": 2,
   "id": "034f4861",
   "metadata": {},
   "outputs": [],
   "source": [
    "ant = num - 1\n",
    "suc = num + 1"
   ]
  },
  {
   "cell_type": "code",
   "execution_count": 3,
   "id": "83b8f998",
   "metadata": {},
   "outputs": [
    {
     "name": "stdout",
     "output_type": "stream",
     "text": [
      "O antessor do número digitado é o 9 e o seu sucessor é o 11.\n"
     ]
    }
   ],
   "source": [
    "print(f\"O antessor do número digitado é o {ant} e o seu sucessor é o {suc}.\")"
   ]
  },
  {
   "cell_type": "code",
   "execution_count": null,
   "id": "0d5f7111",
   "metadata": {},
   "outputs": [],
   "source": []
  }
 ],
 "metadata": {
  "kernelspec": {
   "display_name": "Python 3 (ipykernel)",
   "language": "python",
   "name": "python3"
  },
  "language_info": {
   "codemirror_mode": {
    "name": "ipython",
    "version": 3
   },
   "file_extension": ".py",
   "mimetype": "text/x-python",
   "name": "python",
   "nbconvert_exporter": "python",
   "pygments_lexer": "ipython3",
   "version": "3.9.7"
  }
 },
 "nbformat": 4,
 "nbformat_minor": 5
}
