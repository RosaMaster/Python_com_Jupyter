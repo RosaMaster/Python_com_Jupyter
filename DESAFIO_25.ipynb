{
 "cells": [
  {
   "cell_type": "markdown",
   "id": "d98fbe12",
   "metadata": {},
   "source": [
    "# DESAFIO 25 - Python\n",
    "#### Crie um progrmama que leia o nome de uma pessoa e diga se ela tem \"SILVA\" no nome:"
   ]
  },
  {
   "cell_type": "code",
   "execution_count": 1,
   "id": "785f5a7d",
   "metadata": {},
   "outputs": [
    {
     "name": "stdout",
     "output_type": "stream",
     "text": [
      "Informe o nome completo: Eduardo Rosa da Silva\n"
     ]
    }
   ],
   "source": [
    "name = str(input(\"Informe o nome completo: \")).strip().upper()"
   ]
  },
  {
   "cell_type": "code",
   "execution_count": 2,
   "id": "b2a0648e",
   "metadata": {},
   "outputs": [
    {
     "name": "stdout",
     "output_type": "stream",
     "text": [
      "Seu nome tem Silva? True.\n"
     ]
    }
   ],
   "source": [
    "print(f\"Seu nome tem Silva? {'SILVA' in name}.\")"
   ]
  },
  {
   "cell_type": "code",
   "execution_count": null,
   "id": "a93d8cbe",
   "metadata": {},
   "outputs": [],
   "source": []
  }
 ],
 "metadata": {
  "kernelspec": {
   "display_name": "Python 3 (ipykernel)",
   "language": "python",
   "name": "python3"
  },
  "language_info": {
   "codemirror_mode": {
    "name": "ipython",
    "version": 3
   },
   "file_extension": ".py",
   "mimetype": "text/x-python",
   "name": "python",
   "nbconvert_exporter": "python",
   "pygments_lexer": "ipython3",
   "version": "3.9.7"
  }
 },
 "nbformat": 4,
 "nbformat_minor": 5
}
