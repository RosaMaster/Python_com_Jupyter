{
 "cells": [
  {
   "cell_type": "markdown",
   "id": "2b5b973f",
   "metadata": {},
   "source": [
    "# DESAFIO 09 - Python\n",
    "#### Faça um programa que leia um número inteiro qualquer e mostre na tela a sua tabuada."
   ]
  },
  {
   "cell_type": "code",
   "execution_count": 1,
   "id": "32814cb7",
   "metadata": {},
   "outputs": [
    {
     "name": "stdout",
     "output_type": "stream",
     "text": [
      "Informe um número que deseja ver a tabuada: 6\n"
     ]
    }
   ],
   "source": [
    "num = int(input(\"Informe um número que deseja ver a tabuada: \"))"
   ]
  },
  {
   "cell_type": "code",
   "execution_count": 4,
   "id": "3f0f02d6",
   "metadata": {},
   "outputs": [
    {
     "name": "stdout",
     "output_type": "stream",
     "text": [
      "******\n",
      "6 x 0 = 0\n",
      "6 x 1 = 6\n",
      "6 x 2 = 12\n",
      "6 x 3 = 18\n",
      "6 x 4 = 24\n",
      "6 x 5 = 30\n",
      "6 x 6 = 36\n",
      "6 x 7 = 42\n",
      "6 x 8 = 48\n",
      "6 x 9 = 54\n",
      "6 x 10 = 60\n",
      "******\n"
     ]
    }
   ],
   "source": [
    "number = 0\n",
    "print(\"******\")\n",
    "for number in range(11):\n",
    "    print(f\"{num} x {number} = {number * num}\")\n",
    "print(\"******\")"
   ]
  },
  {
   "cell_type": "code",
   "execution_count": null,
   "id": "3459fe8b",
   "metadata": {},
   "outputs": [],
   "source": []
  }
 ],
 "metadata": {
  "kernelspec": {
   "display_name": "Python 3 (ipykernel)",
   "language": "python",
   "name": "python3"
  },
  "language_info": {
   "codemirror_mode": {
    "name": "ipython",
    "version": 3
   },
   "file_extension": ".py",
   "mimetype": "text/x-python",
   "name": "python",
   "nbconvert_exporter": "python",
   "pygments_lexer": "ipython3",
   "version": "3.9.7"
  }
 },
 "nbformat": 4,
 "nbformat_minor": 5
}
