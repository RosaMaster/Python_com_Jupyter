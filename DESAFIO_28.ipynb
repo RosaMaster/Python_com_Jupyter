{
 "cells": [
  {
   "cell_type": "markdown",
   "id": "7b13d079",
   "metadata": {},
   "source": [
    "# DESAFIO 28 - Python\n",
    "#### Escreva um programa que faça o computador \"pensar\" em um numero entre 0 e 5 e peça para o usuário tentar descobrir qual foi o número escolhido pelo computador.\n",
    "\n",
    "#### O programa deverá escrever na tela se o usuário venceu ou perdeu."
   ]
  },
  {
   "cell_type": "code",
   "execution_count": 1,
   "id": "ee220510",
   "metadata": {},
   "outputs": [],
   "source": [
    "import random\n",
    "import time\n",
    "\n",
    "number = random.randint(0, 5)"
   ]
  },
  {
   "cell_type": "code",
   "execution_count": 2,
   "id": "683188c0",
   "metadata": {},
   "outputs": [
    {
     "name": "stdout",
     "output_type": "stream",
     "text": [
      "Escolha um número entre 0 e 5: 3\n"
     ]
    }
   ],
   "source": [
    "number2 = int(input(\"Escolha um número entre 0 e 5: \"))"
   ]
  },
  {
   "cell_type": "code",
   "execution_count": 3,
   "id": "10c6d2ee",
   "metadata": {},
   "outputs": [
    {
     "name": "stdout",
     "output_type": "stream",
     "text": [
      "PROCESSANDO...\n",
      "Você venceu, parabéns!!!\n"
     ]
    }
   ],
   "source": [
    "print(\"PROCESSANDO...\")\n",
    "time.sleep(3)\n",
    "if number == number2:\n",
    "    print(\"Você venceu, parabéns!!!\")\n",
    "    \n",
    "else:\n",
    "    print(f\"Você perdeu o número é {number}, tente novamente.\")"
   ]
  },
  {
   "cell_type": "code",
   "execution_count": null,
   "id": "e4de3cb0",
   "metadata": {},
   "outputs": [],
   "source": []
  }
 ],
 "metadata": {
  "kernelspec": {
   "display_name": "Python 3 (ipykernel)",
   "language": "python",
   "name": "python3"
  },
  "language_info": {
   "codemirror_mode": {
    "name": "ipython",
    "version": 3
   },
   "file_extension": ".py",
   "mimetype": "text/x-python",
   "name": "python",
   "nbconvert_exporter": "python",
   "pygments_lexer": "ipython3",
   "version": "3.9.7"
  }
 },
 "nbformat": 4,
 "nbformat_minor": 5
}
