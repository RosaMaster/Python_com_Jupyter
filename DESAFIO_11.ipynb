{
 "cells": [
  {
   "cell_type": "markdown",
   "id": "4f07bce5",
   "metadata": {},
   "source": [
    "# DESAFIO 11 - Python\n",
    "#### Faça um programa que leia a largura e a altura de uma parede em metros, calcule a sua área e a quantidade de tinta necessária para pintá-la, sabendo que cada litro de tinta, pinta uma área de 2 m²."
   ]
  },
  {
   "cell_type": "code",
   "execution_count": 3,
   "id": "3db925ea",
   "metadata": {},
   "outputs": [
    {
     "name": "stdout",
     "output_type": "stream",
     "text": [
      "Informe a largura da parede em metros: 5\n",
      "Informe o comprimento da parede em metros: 5\n"
     ]
    }
   ],
   "source": [
    "largura = float(input(\"Informe a largura da parede em metros: \"))\n",
    "comprimento = float(input(\"Informe o comprimento da parede em metros: \"))\n",
    "area = largura * comprimento"
   ]
  },
  {
   "cell_type": "code",
   "execution_count": 4,
   "id": "950c6e02",
   "metadata": {},
   "outputs": [
    {
     "name": "stdout",
     "output_type": "stream",
     "text": [
      "Sua parede tem a dimensão de 5.000 metros de largura X 5.000 metros de comprimento e sua ára é de 25.000 m².\n",
      "Para pintar essa parede, você precisará de 12.500 Litros de tinta.\n"
     ]
    }
   ],
   "source": [
    "print(f\"Sua parede tem a dimensão de {largura:.3f} metros de largura X {comprimento:.3f} metros de comprimento e sua ára é de {area:.3f} m².\")\n",
    "print(f\"Para pintar essa parede, você precisará de {(area / 2):.3f} Litros de tinta.\")"
   ]
  },
  {
   "cell_type": "code",
   "execution_count": null,
   "id": "ab0de530",
   "metadata": {},
   "outputs": [],
   "source": []
  }
 ],
 "metadata": {
  "kernelspec": {
   "display_name": "Python 3 (ipykernel)",
   "language": "python",
   "name": "python3"
  },
  "language_info": {
   "codemirror_mode": {
    "name": "ipython",
    "version": 3
   },
   "file_extension": ".py",
   "mimetype": "text/x-python",
   "name": "python",
   "nbconvert_exporter": "python",
   "pygments_lexer": "ipython3",
   "version": "3.9.7"
  }
 },
 "nbformat": 4,
 "nbformat_minor": 5
}
