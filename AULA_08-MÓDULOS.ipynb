{
 "cells": [
  {
   "cell_type": "markdown",
   "id": "d2c91055",
   "metadata": {},
   "source": [
    "# AULA 08 - Python\n",
    "#### UTILIZANDO MÓDULOS\n",
    "\n",
    "###  !pip3 install pygame  ### Biblioteca instalada pygame"
   ]
  },
  {
   "cell_type": "code",
   "execution_count": 18,
   "id": "14b137cd",
   "metadata": {},
   "outputs": [
    {
     "name": "stdout",
     "output_type": "stream",
     "text": [
      "Digite um número: 100\n"
     ]
    }
   ],
   "source": [
    "from math import sqrt, floor\n",
    "import random\n",
    "num = int(input(\"Digite um número: \"))\n",
    "raiz = math.sqrt(num)"
   ]
  },
  {
   "cell_type": "markdown",
   "id": "aeeb4551",
   "metadata": {},
   "source": [
    "#### Usando função sqrt"
   ]
  },
  {
   "cell_type": "code",
   "execution_count": 19,
   "id": "77ffc185",
   "metadata": {},
   "outputs": [
    {
     "name": "stdout",
     "output_type": "stream",
     "text": [
      "A raiz de 100 é igual a 10.00.\n"
     ]
    }
   ],
   "source": [
    "print(f\"A raiz de {num} é igual a {raiz:.2f}.\")"
   ]
  },
  {
   "cell_type": "markdown",
   "id": "2cfa5121",
   "metadata": {},
   "source": [
    "#### Usando função floor *arredondar para baixo"
   ]
  },
  {
   "cell_type": "code",
   "execution_count": 20,
   "id": "2803e713",
   "metadata": {},
   "outputs": [
    {
     "name": "stdout",
     "output_type": "stream",
     "text": [
      "A raiz de 100 é igual a 10.00.\n"
     ]
    }
   ],
   "source": [
    "print(f\"A raiz de {num} é igual a {math.floor(raiz):.2f}.\")"
   ]
  },
  {
   "cell_type": "markdown",
   "id": "8bab065c",
   "metadata": {},
   "source": [
    "#### Gerar número aleatório"
   ]
  },
  {
   "cell_type": "code",
   "execution_count": 22,
   "id": "07638259",
   "metadata": {},
   "outputs": [
    {
     "name": "stdout",
     "output_type": "stream",
     "text": [
      "0.2473148562390275\n"
     ]
    }
   ],
   "source": [
    "num2 = random.random()\n",
    "print(num2)"
   ]
  },
  {
   "cell_type": "markdown",
   "id": "cbe1deb7",
   "metadata": {},
   "source": [
    "#### Gerar número no intervalo"
   ]
  },
  {
   "cell_type": "code",
   "execution_count": 23,
   "id": "84873ec5",
   "metadata": {},
   "outputs": [
    {
     "name": "stdout",
     "output_type": "stream",
     "text": [
      "6\n"
     ]
    }
   ],
   "source": [
    "num3 = random.randint(1, 10)\n",
    "print(num3)"
   ]
  },
  {
   "cell_type": "code",
   "execution_count": null,
   "id": "b7106442",
   "metadata": {},
   "outputs": [],
   "source": []
  }
 ],
 "metadata": {
  "kernelspec": {
   "display_name": "Python 3 (ipykernel)",
   "language": "python",
   "name": "python3"
  },
  "language_info": {
   "codemirror_mode": {
    "name": "ipython",
    "version": 3
   },
   "file_extension": ".py",
   "mimetype": "text/x-python",
   "name": "python",
   "nbconvert_exporter": "python",
   "pygments_lexer": "ipython3",
   "version": "3.9.7"
  }
 },
 "nbformat": 4,
 "nbformat_minor": 5
}
