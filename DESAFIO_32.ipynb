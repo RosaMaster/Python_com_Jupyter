{
 "cells": [
  {
   "cell_type": "markdown",
   "id": "d376198a",
   "metadata": {},
   "source": [
    "# DESAFIO 32 - Python\n",
    "#### Crie um programa que leia um ano qualquer e mostre se ele é bissexto."
   ]
  },
  {
   "cell_type": "code",
   "execution_count": 5,
   "id": "eaf2dcdf",
   "metadata": {},
   "outputs": [
    {
     "name": "stdout",
     "output_type": "stream",
     "text": [
      "Digite um ano para verificação: 1900\n",
      "O ano 1900 não é bissexto.\n"
     ]
    }
   ],
   "source": [
    "ano = int(input(\"Digite um ano para verificação: \"))\n",
    "\n",
    "if (ano % 4) == 0:\n",
    "    if (ano % 100) == 0:\n",
    "        if (ano % 400) == 0:\n",
    "            print(f\"O ano {ano} é bissexto!\")\n",
    "        else:\n",
    "            print(f\"O ano {ano} não é bissexto.\")\n",
    "    else:\n",
    "        print(f\"O ano {ano} é bissexto!\")\n",
    "else:\n",
    "    print(f\"O ano {ano} não é bissexto.\")"
   ]
  },
  {
   "cell_type": "markdown",
   "id": "925d38d2",
   "metadata": {},
   "source": [
    "### Resolução alternativa"
   ]
  },
  {
   "cell_type": "code",
   "execution_count": 7,
   "id": "78062a4c",
   "metadata": {},
   "outputs": [
    {
     "name": "stdout",
     "output_type": "stream",
     "text": [
      "Digite um ano para verificação: 2016\n",
      "O ano 2016 é bissexto!\n"
     ]
    }
   ],
   "source": [
    "from datetime import date\n",
    "ano = int(input(\"Digite um ano para verificação: \"))\n",
    "if ano == 0:\n",
    "    ano = date.today().year\n",
    "if ano % 4 == 0 and ano % 100 != 0 or ano % 400 == 0:\n",
    "    print(f\"O ano {ano} é bissexto!\")\n",
    "else:\n",
    "    print(f\"O ano {ano} não é bissexto.\")"
   ]
  },
  {
   "cell_type": "code",
   "execution_count": null,
   "id": "286588bb",
   "metadata": {},
   "outputs": [],
   "source": []
  }
 ],
 "metadata": {
  "kernelspec": {
   "display_name": "Python 3 (ipykernel)",
   "language": "python",
   "name": "python3"
  },
  "language_info": {
   "codemirror_mode": {
    "name": "ipython",
    "version": 3
   },
   "file_extension": ".py",
   "mimetype": "text/x-python",
   "name": "python",
   "nbconvert_exporter": "python",
   "pygments_lexer": "ipython3",
   "version": "3.9.7"
  }
 },
 "nbformat": 4,
 "nbformat_minor": 5
}
