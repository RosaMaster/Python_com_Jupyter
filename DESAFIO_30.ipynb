{
 "cells": [
  {
   "cell_type": "markdown",
   "id": "a6d1fbcd",
   "metadata": {},
   "source": [
    "# DESAFIO 30 - Python\n",
    "#### Crie um programa que leia um número inteiro e mostre na tela se ele é PAR ou ÍMPAR."
   ]
  },
  {
   "cell_type": "code",
   "execution_count": 3,
   "id": "6b1bec92",
   "metadata": {},
   "outputs": [
    {
     "name": "stdout",
     "output_type": "stream",
     "text": [
      "Informe um número qualquer: 9\n"
     ]
    }
   ],
   "source": [
    "number = int(input(\"Informe um número qualquer: \"))"
   ]
  },
  {
   "cell_type": "code",
   "execution_count": 4,
   "id": "8cedd1c1",
   "metadata": {},
   "outputs": [
    {
     "name": "stdout",
     "output_type": "stream",
     "text": [
      "O número digitado 9 é ímpar!\n"
     ]
    }
   ],
   "source": [
    "if (number % 2) == 0:\n",
    "    print(f\"O número digitado {number} é par!\")\n",
    "else:\n",
    "    print(f\"O número digitado {number} é ímpar!\")"
   ]
  },
  {
   "cell_type": "code",
   "execution_count": null,
   "id": "13609477",
   "metadata": {},
   "outputs": [],
   "source": []
  },
  {
   "cell_type": "code",
   "execution_count": null,
   "id": "4db440ad",
   "metadata": {},
   "outputs": [],
   "source": []
  }
 ],
 "metadata": {
  "kernelspec": {
   "display_name": "Python 3 (ipykernel)",
   "language": "python",
   "name": "python3"
  },
  "language_info": {
   "codemirror_mode": {
    "name": "ipython",
    "version": 3
   },
   "file_extension": ".py",
   "mimetype": "text/x-python",
   "name": "python",
   "nbconvert_exporter": "python",
   "pygments_lexer": "ipython3",
   "version": "3.9.7"
  }
 },
 "nbformat": 4,
 "nbformat_minor": 5
}
