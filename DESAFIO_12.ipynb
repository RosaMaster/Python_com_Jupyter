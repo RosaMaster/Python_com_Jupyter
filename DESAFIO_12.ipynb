{
 "cells": [
  {
   "cell_type": "markdown",
   "id": "79a1857f",
   "metadata": {},
   "source": [
    "# DESAFIO 12 - Python\n",
    "#### Faça um algoritmo que leia o preço de um produto e mostre seu novo preço, com 5% de desconto."
   ]
  },
  {
   "cell_type": "code",
   "execution_count": 1,
   "id": "5176c3f7",
   "metadata": {},
   "outputs": [
    {
     "name": "stdout",
     "output_type": "stream",
     "text": [
      "Informe o valor do produto: R$ 123.95\n"
     ]
    }
   ],
   "source": [
    "valor = float(input(\"Informe o valor do produto: R$ \"))\n",
    "desconto = valor - (valor * 0.05)"
   ]
  },
  {
   "cell_type": "code",
   "execution_count": 4,
   "id": "944d32a1",
   "metadata": {},
   "outputs": [
    {
     "name": "stdout",
     "output_type": "stream",
     "text": [
      "O valor a se pagar é de R$ 117.75, já com o desconto de 5%.\n"
     ]
    }
   ],
   "source": [
    "print(f\"O valor a se pagar é de R$ {desconto:.2f}, já com o desconto de 5%.\")"
   ]
  },
  {
   "cell_type": "code",
   "execution_count": null,
   "id": "722f2cce",
   "metadata": {},
   "outputs": [],
   "source": []
  }
 ],
 "metadata": {
  "kernelspec": {
   "display_name": "Python 3 (ipykernel)",
   "language": "python",
   "name": "python3"
  },
  "language_info": {
   "codemirror_mode": {
    "name": "ipython",
    "version": 3
   },
   "file_extension": ".py",
   "mimetype": "text/x-python",
   "name": "python",
   "nbconvert_exporter": "python",
   "pygments_lexer": "ipython3",
   "version": "3.9.7"
  }
 },
 "nbformat": 4,
 "nbformat_minor": 5
}
