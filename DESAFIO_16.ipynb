{
 "cells": [
  {
   "cell_type": "markdown",
   "id": "56b574ed",
   "metadata": {},
   "source": [
    "# DESAFIO 16 - Python\n",
    "#### Escreva um programa que leia um número real qualquer pelo teclado e mostre na tela a sua porção inteira.\n",
    "#### Exemplo: Digite um número: 6,127\n",
    "#### O número 6,127 tem a parte inteira  6."
   ]
  },
  {
   "cell_type": "code",
   "execution_count": 14,
   "id": "0c30f8d7",
   "metadata": {},
   "outputs": [
    {
     "name": "stdout",
     "output_type": "stream",
     "text": [
      "Digite um número real: 2.619\n"
     ]
    }
   ],
   "source": [
    "import math\n",
    "num = float(input(\"Digite um número real: \"))"
   ]
  },
  {
   "cell_type": "code",
   "execution_count": 15,
   "id": "139d3346",
   "metadata": {},
   "outputs": [
    {
     "name": "stdout",
     "output_type": "stream",
     "text": [
      "O número 2.619 tem parte inteira arredonda para cima em 3\n"
     ]
    }
   ],
   "source": [
    "print(f\"O número {num} tem parte inteira arredonda para cima em {math.ceil(num)}\")"
   ]
  },
  {
   "cell_type": "code",
   "execution_count": 16,
   "id": "45d2b53a",
   "metadata": {},
   "outputs": [
    {
     "name": "stdout",
     "output_type": "stream",
     "text": [
      "O número 2.619 tem parte inteira arredonda para baixo em 2\n"
     ]
    }
   ],
   "source": [
    "print(f\"O número {num} tem parte inteira arredonda para baixo em {math.floor(num)}\")"
   ]
  },
  {
   "cell_type": "code",
   "execution_count": 17,
   "id": "fe31b00d",
   "metadata": {},
   "outputs": [
    {
     "name": "stdout",
     "output_type": "stream",
     "text": [
      "O número 2.619 tem parte inteira arredonda com trunc em 2\n"
     ]
    }
   ],
   "source": [
    "print(f\"O número {num} tem parte inteira arredonda com trunc em {math.trunc(num)}\")"
   ]
  },
  {
   "cell_type": "code",
   "execution_count": null,
   "id": "3314ce3d",
   "metadata": {},
   "outputs": [],
   "source": []
  }
 ],
 "metadata": {
  "kernelspec": {
   "display_name": "Python 3 (ipykernel)",
   "language": "python",
   "name": "python3"
  },
  "language_info": {
   "codemirror_mode": {
    "name": "ipython",
    "version": 3
   },
   "file_extension": ".py",
   "mimetype": "text/x-python",
   "name": "python",
   "nbconvert_exporter": "python",
   "pygments_lexer": "ipython3",
   "version": "3.9.7"
  }
 },
 "nbformat": 4,
 "nbformat_minor": 5
}
