{
 "cells": [
  {
   "cell_type": "markdown",
   "id": "d39dbe2f",
   "metadata": {},
   "source": [
    "# DESAFIO 24 - Python\n",
    "#### Crie um progrmama que leia o nome de uma cidade e diga se ela começa ou não com o nome \"SANTO\":"
   ]
  },
  {
   "cell_type": "code",
   "execution_count": 1,
   "id": "23e77cfe",
   "metadata": {},
   "outputs": [
    {
     "name": "stdout",
     "output_type": "stream",
     "text": [
      "Informe o nome de uma cidade: Santo amaro\n"
     ]
    }
   ],
   "source": [
    "cidade = str(input(\"Informe o nome de uma cidade: \")).strip().upper()"
   ]
  },
  {
   "cell_type": "code",
   "execution_count": 2,
   "id": "85de1efe",
   "metadata": {},
   "outputs": [
    {
     "name": "stdout",
     "output_type": "stream",
     "text": [
      "['SANTO', 'AMARO']\n"
     ]
    }
   ],
   "source": [
    "cidade2 = cidade.split()\n",
    "print(cidade2)"
   ]
  },
  {
   "cell_type": "code",
   "execution_count": 3,
   "id": "3c58a0b2",
   "metadata": {},
   "outputs": [
    {
     "data": {
      "text/plain": [
       "True"
      ]
     },
     "execution_count": 3,
     "metadata": {},
     "output_type": "execute_result"
    }
   ],
   "source": [
    "'SANTO' in cidade2[0]"
   ]
  },
  {
   "cell_type": "markdown",
   "id": "4ba61d92",
   "metadata": {},
   "source": [
    "#### Método 02"
   ]
  },
  {
   "cell_type": "code",
   "execution_count": 13,
   "id": "ecb0b253",
   "metadata": {},
   "outputs": [],
   "source": [
    "#cidade3 = cidade[:5].upper() == 'SANTO'\n",
    "#print(cidade)"
   ]
  },
  {
   "cell_type": "code",
   "execution_count": 12,
   "id": "7649ed30",
   "metadata": {},
   "outputs": [],
   "source": [
    "#cidade4 = cidade[:5].lower() == 'santo'\n",
    "#print(cidade)"
   ]
  },
  {
   "cell_type": "code",
   "execution_count": null,
   "id": "4ea6281d",
   "metadata": {},
   "outputs": [],
   "source": []
  }
 ],
 "metadata": {
  "kernelspec": {
   "display_name": "Python 3 (ipykernel)",
   "language": "python",
   "name": "python3"
  },
  "language_info": {
   "codemirror_mode": {
    "name": "ipython",
    "version": 3
   },
   "file_extension": ".py",
   "mimetype": "text/x-python",
   "name": "python",
   "nbconvert_exporter": "python",
   "pygments_lexer": "ipython3",
   "version": "3.9.7"
  }
 },
 "nbformat": 4,
 "nbformat_minor": 5
}
