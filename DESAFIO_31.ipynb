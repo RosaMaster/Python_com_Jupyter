{
 "cells": [
  {
   "cell_type": "markdown",
   "id": "717754a1",
   "metadata": {},
   "source": [
    "# DESAFIO 31 - Python\n",
    "#### Crie um programa que pergunte a distância de uma viagem em Km. Calcule o preco da passagem, cobrando RS 0,50 por Km para viagens de até 200 Km e RS 0,45 para viagens mais longas."
   ]
  },
  {
   "cell_type": "code",
   "execution_count": 3,
   "id": "d167b7db",
   "metadata": {},
   "outputs": [
    {
     "name": "stdout",
     "output_type": "stream",
     "text": [
      "Digite a distância percorrida em Km: 300\n",
      "O valor da viagem é R$ 135.00.\n"
     ]
    }
   ],
   "source": [
    "way = float(input(\"Digite a distância percorrida em Km: \"))\n",
    "\n",
    "if way <= 200.0:\n",
    "    custo = way * 0.5\n",
    "\n",
    "else:\n",
    "    custo = way * 0.45\n",
    "    \n",
    "print(f\"O valor da viagem é R$ {custo:.2f}.\")"
   ]
  },
  {
   "cell_type": "code",
   "execution_count": null,
   "id": "61c65621",
   "metadata": {},
   "outputs": [],
   "source": []
  }
 ],
 "metadata": {
  "kernelspec": {
   "display_name": "Python 3 (ipykernel)",
   "language": "python",
   "name": "python3"
  },
  "language_info": {
   "codemirror_mode": {
    "name": "ipython",
    "version": 3
   },
   "file_extension": ".py",
   "mimetype": "text/x-python",
   "name": "python",
   "nbconvert_exporter": "python",
   "pygments_lexer": "ipython3",
   "version": "3.9.7"
  }
 },
 "nbformat": 4,
 "nbformat_minor": 5
}
