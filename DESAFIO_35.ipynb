{
 "cells": [
  {
   "cell_type": "markdown",
   "id": "3fa4682b",
   "metadata": {},
   "source": [
    "# DESAFIO 35 - Python\n",
    "#### Desenvolva um programa que leia o comprimento de três retas e diga ao usuário se elas podem ou não formar um triângulo."
   ]
  },
  {
   "cell_type": "code",
   "execution_count": 5,
   "id": "d7eaf56e",
   "metadata": {},
   "outputs": [
    {
     "name": "stdout",
     "output_type": "stream",
     "text": [
      "-=--=--=--=--=--=--=--=--=--=--=--=--=--=--=--=--=--=--=--=-\n",
      "ANALISADOR DE TRIÂNGULOS\n",
      "-=--=--=--=--=--=--=--=--=--=--=--=--=--=--=--=--=--=--=--=-\n",
      "Primeiro lado: 7\n",
      "Segundo lado: 3\n",
      "Terceiro lado: 3\n",
      "Os seguimentos não acima podem formar um triângulo!\n"
     ]
    }
   ],
   "source": [
    "print('-=-' * 20)\n",
    "print(\"ANALISADOR DE TRIÂNGULOS\")\n",
    "print('-=-' * 20)\n",
    "\n",
    "l1 = float(input(\"Primeiro lado: \"))\n",
    "l2 = float(input(\"Segundo lado: \"))\n",
    "l3 = float(input(\"Terceiro lado: \"))\n",
    "\n",
    "if (l1 < l2 + l3) and (l2 < l1 + l3) and (l3 < l2 + l1):\n",
    "    print(\"Os seguimentos acima podem formar um triângulo!\")\n",
    "else:\n",
    "    print(\"Os seguimentos não acima podem formar um triângulo!\")"
   ]
  },
  {
   "cell_type": "code",
   "execution_count": null,
   "id": "5d2176e3",
   "metadata": {},
   "outputs": [],
   "source": []
  }
 ],
 "metadata": {
  "kernelspec": {
   "display_name": "Python 3 (ipykernel)",
   "language": "python",
   "name": "python3"
  },
  "language_info": {
   "codemirror_mode": {
    "name": "ipython",
    "version": 3
   },
   "file_extension": ".py",
   "mimetype": "text/x-python",
   "name": "python",
   "nbconvert_exporter": "python",
   "pygments_lexer": "ipython3",
   "version": "3.9.7"
  }
 },
 "nbformat": 4,
 "nbformat_minor": 5
}
