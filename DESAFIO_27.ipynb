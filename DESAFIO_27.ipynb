{
 "cells": [
  {
   "cell_type": "markdown",
   "id": "252fa1db",
   "metadata": {},
   "source": [
    "# DESAFIO 27 - Python\n",
    "#### Crie um programa que leia o nome de uma pessoa, mostrando em seguida o primeiro e o último nome separadamente.\n",
    "\n",
    "Exemplo: Ana Maria de Souza\n",
    "    \n",
    "primeiro: Ana\n",
    "    \n",
    "último: Souza\n",
    "\n",
    "exemplo: Pedro Luiz dos Santos"
   ]
  },
  {
   "cell_type": "code",
   "execution_count": 2,
   "id": "59a78029",
   "metadata": {},
   "outputs": [
    {
     "name": "stdout",
     "output_type": "stream",
     "text": [
      "Digite seu nome completo: Pedro Luiz dos Santos\n",
      "['Pedro', 'Luiz', 'dos', 'Santos']\n"
     ]
    }
   ],
   "source": [
    "n = str(input(\"Digite seu nome completo: \")).strip()\n",
    "name = n.split()\n",
    "print(name)"
   ]
  },
  {
   "cell_type": "code",
   "execution_count": 3,
   "id": "9007eb60",
   "metadata": {},
   "outputs": [
    {
     "name": "stdout",
     "output_type": "stream",
     "text": [
      "Seu primeiro nome é Pedro.\n"
     ]
    }
   ],
   "source": [
    "print(f\"Seu primeiro nome é {name[0]}.\")"
   ]
  },
  {
   "cell_type": "code",
   "execution_count": 4,
   "id": "8a4916b3",
   "metadata": {},
   "outputs": [
    {
     "name": "stdout",
     "output_type": "stream",
     "text": [
      "Seu útimo nome é Santos.\n"
     ]
    }
   ],
   "source": [
    "print(f\"Seu útimo nome é {name[len(name)-1]}.\")"
   ]
  },
  {
   "cell_type": "code",
   "execution_count": null,
   "id": "aeb08c74",
   "metadata": {},
   "outputs": [],
   "source": []
  }
 ],
 "metadata": {
  "kernelspec": {
   "display_name": "Python 3 (ipykernel)",
   "language": "python",
   "name": "python3"
  },
  "language_info": {
   "codemirror_mode": {
    "name": "ipython",
    "version": 3
   },
   "file_extension": ".py",
   "mimetype": "text/x-python",
   "name": "python",
   "nbconvert_exporter": "python",
   "pygments_lexer": "ipython3",
   "version": "3.9.7"
  }
 },
 "nbformat": 4,
 "nbformat_minor": 5
}
