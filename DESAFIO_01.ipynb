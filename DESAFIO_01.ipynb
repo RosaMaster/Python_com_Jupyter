{
 "cells": [
  {
   "cell_type": "markdown",
   "id": "1c9fa393",
   "metadata": {},
   "source": [
    "# DESAFIO 01 - Python"
   ]
  },
  {
   "cell_type": "markdown",
   "id": "18c3f5d8",
   "metadata": {},
   "source": [
    "### CRIE UM SCRIPT PYTHON QUE LEIAQ O NOME DE UMA PESSOA E MOSTRA UMA MENSAGEM DE BOAS-VINDAS DE ACORDO COM O VALOR DIGITADO."
   ]
  },
  {
   "cell_type": "code",
   "execution_count": 2,
   "id": "b8580de4",
   "metadata": {},
   "outputs": [
    {
     "name": "stdout",
     "output_type": "stream",
     "text": [
      "Informe o seu nome completo: Eduardo\n"
     ]
    }
   ],
   "source": [
    "name = input(\"Informe o seu nome completo: \")"
   ]
  },
  {
   "cell_type": "code",
   "execution_count": 5,
   "id": "3a864e9a",
   "metadata": {},
   "outputs": [
    {
     "name": "stdout",
     "output_type": "stream",
     "text": [
      "Seja bem vindo(a) Eduardo.\n",
      "Prazer em conhece-lo Eduardo\n"
     ]
    }
   ],
   "source": [
    "print(f\"Seja bem vindo(a) {name}.\\nPrazer em conhece-lo {name}.\")"
   ]
  },
  {
   "cell_type": "code",
   "execution_count": null,
   "id": "109f38b8",
   "metadata": {},
   "outputs": [],
   "source": []
  }
 ],
 "metadata": {
  "kernelspec": {
   "display_name": "Python 3 (ipykernel)",
   "language": "python",
   "name": "python3"
  },
  "language_info": {
   "codemirror_mode": {
    "name": "ipython",
    "version": 3
   },
   "file_extension": ".py",
   "mimetype": "text/x-python",
   "name": "python",
   "nbconvert_exporter": "python",
   "pygments_lexer": "ipython3",
   "version": "3.9.7"
  }
 },
 "nbformat": 4,
 "nbformat_minor": 5
}
