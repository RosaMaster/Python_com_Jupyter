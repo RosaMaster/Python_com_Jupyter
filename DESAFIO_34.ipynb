{
 "cells": [
  {
   "cell_type": "markdown",
   "id": "44ee19ce",
   "metadata": {},
   "source": [
    "# DESAFIO 34 - Python\n",
    "#### Crie um programa que pergunta o salário de um funcionário e calcule o valor do seu aumento.\n",
    "#### Para salários superiores a RS 1.250,00, calcule um aumento de 10%.\n",
    "#### Para os inferiores ou iaguais, o aumento é de 15%."
   ]
  },
  {
   "cell_type": "code",
   "execution_count": 2,
   "id": "b4bed7c8",
   "metadata": {},
   "outputs": [
    {
     "name": "stdout",
     "output_type": "stream",
     "text": [
      "Qual é o salário do funcionário? R$ 1000\n",
      "Quem ganhava R$ 1000.00 passa a ganhar R$ 1150.00 agora.\n"
     ]
    }
   ],
   "source": [
    "salario = float(input(\"Qual é o salário do funcionário? R$ \"))\n",
    "if salario <= 1250:\n",
    "    novo = salario + (salario * 15 / 100)\n",
    "else:\n",
    "    novo = salario + (salario * 10 / 100)\n",
    "\n",
    "print(f\"Quem ganhava R$ {salario:.2f} passa a ganhar R$ {novo:.2f} agora.\")"
   ]
  },
  {
   "cell_type": "code",
   "execution_count": null,
   "id": "c14e12a3",
   "metadata": {},
   "outputs": [],
   "source": []
  }
 ],
 "metadata": {
  "kernelspec": {
   "display_name": "Python 3 (ipykernel)",
   "language": "python",
   "name": "python3"
  },
  "language_info": {
   "codemirror_mode": {
    "name": "ipython",
    "version": 3
   },
   "file_extension": ".py",
   "mimetype": "text/x-python",
   "name": "python",
   "nbconvert_exporter": "python",
   "pygments_lexer": "ipython3",
   "version": "3.9.7"
  }
 },
 "nbformat": 4,
 "nbformat_minor": 5
}
