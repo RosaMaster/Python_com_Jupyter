{
 "cells": [
  {
   "cell_type": "markdown",
   "id": "86b0afc1",
   "metadata": {},
   "source": [
    "# DESAFIO 14 - Python\n",
    "#### Escreva um programa que converta uma temperatura digitando em graus Celsius e converta para graus Fahrenheit."
   ]
  },
  {
   "cell_type": "code",
   "execution_count": 1,
   "id": "1b113890",
   "metadata": {},
   "outputs": [
    {
     "name": "stdout",
     "output_type": "stream",
     "text": [
      "Informe a temperatura em graus °C (Celsius): 10\n"
     ]
    }
   ],
   "source": [
    "celsius = float(input(\"Informe a temperatura em graus °C (Celsius): \"))\n",
    "fahrenheit = (celsius * ( 9 /5 )) + 32"
   ]
  },
  {
   "cell_type": "code",
   "execution_count": 2,
   "id": "18875a9c",
   "metadata": {},
   "outputs": [
    {
     "name": "stdout",
     "output_type": "stream",
     "text": [
      "A temperatura em Celsius é 10.0 °C convertendo para Fahrenheit é 50.00 °F.\n"
     ]
    }
   ],
   "source": [
    "print(f\"A temperatura em Celsius é {celsius} °C convertendo para Fahrenheit é {fahrenheit:.2f} °F.\")"
   ]
  },
  {
   "cell_type": "code",
   "execution_count": null,
   "id": "4168942d",
   "metadata": {},
   "outputs": [],
   "source": []
  }
 ],
 "metadata": {
  "kernelspec": {
   "display_name": "Python 3 (ipykernel)",
   "language": "python",
   "name": "python3"
  },
  "language_info": {
   "codemirror_mode": {
    "name": "ipython",
    "version": 3
   },
   "file_extension": ".py",
   "mimetype": "text/x-python",
   "name": "python",
   "nbconvert_exporter": "python",
   "pygments_lexer": "ipython3",
   "version": "3.9.7"
  }
 },
 "nbformat": 4,
 "nbformat_minor": 5
}
