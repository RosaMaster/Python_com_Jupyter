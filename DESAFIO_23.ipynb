{
 "cells": [
  {
   "cell_type": "markdown",
   "id": "3a7f2bbd",
   "metadata": {},
   "source": [
    "# DESAFIO 23 - Python\n",
    "#### Crie um programa que leia um número de 0 a 9999 e mostre na tela cada um dos digitos separados.\n",
    "\n",
    "ex: Digite um número: 1834\n",
    "\n",
    "unidade: 4<br>\n",
    "dezena: 3<br>\n",
    "centena: 8<br>\n",
    "milhar: 1<br>"
   ]
  },
  {
   "cell_type": "code",
   "execution_count": 1,
   "id": "aaae0875",
   "metadata": {},
   "outputs": [
    {
     "name": "stdout",
     "output_type": "stream",
     "text": [
      "Digite um numero entre 0 a 9999: 1234\n"
     ]
    }
   ],
   "source": [
    "number = int(input(\"Digite um numero entre 0 a 9999: \"))"
   ]
  },
  {
   "cell_type": "markdown",
   "id": "5bbea239",
   "metadata": {},
   "source": [
    "### Unidade"
   ]
  },
  {
   "cell_type": "code",
   "execution_count": 6,
   "id": "a4ba955f",
   "metadata": {
    "scrolled": true
   },
   "outputs": [
    {
     "name": "stdout",
     "output_type": "stream",
     "text": [
      "4\n"
     ]
    }
   ],
   "source": [
    "unidade = number // 1 % 10\n",
    "print(unidade)"
   ]
  },
  {
   "cell_type": "markdown",
   "id": "e329f855",
   "metadata": {},
   "source": [
    "### Dezena"
   ]
  },
  {
   "cell_type": "code",
   "execution_count": 8,
   "id": "8b97728c",
   "metadata": {
    "scrolled": true
   },
   "outputs": [
    {
     "name": "stdout",
     "output_type": "stream",
     "text": [
      "3\n"
     ]
    }
   ],
   "source": [
    "dezena = number // 10 % 10\n",
    "print(dezena)"
   ]
  },
  {
   "cell_type": "markdown",
   "id": "1f62637f",
   "metadata": {},
   "source": [
    "### Centena"
   ]
  },
  {
   "cell_type": "code",
   "execution_count": 9,
   "id": "087095e6",
   "metadata": {},
   "outputs": [
    {
     "name": "stdout",
     "output_type": "stream",
     "text": [
      "2\n"
     ]
    }
   ],
   "source": [
    "centena = number // 100 % 10\n",
    "print(centena)"
   ]
  },
  {
   "cell_type": "markdown",
   "id": "67848b3d",
   "metadata": {},
   "source": [
    "### Milhar"
   ]
  },
  {
   "cell_type": "code",
   "execution_count": 10,
   "id": "4f81b555",
   "metadata": {},
   "outputs": [
    {
     "name": "stdout",
     "output_type": "stream",
     "text": [
      "1\n"
     ]
    }
   ],
   "source": [
    "milhar = number // 1000 % 10\n",
    "print(milhar)"
   ]
  },
  {
   "cell_type": "code",
   "execution_count": null,
   "id": "38272ec9",
   "metadata": {},
   "outputs": [],
   "source": []
  }
 ],
 "metadata": {
  "kernelspec": {
   "display_name": "Python 3 (ipykernel)",
   "language": "python",
   "name": "python3"
  },
  "language_info": {
   "codemirror_mode": {
    "name": "ipython",
    "version": 3
   },
   "file_extension": ".py",
   "mimetype": "text/x-python",
   "name": "python",
   "nbconvert_exporter": "python",
   "pygments_lexer": "ipython3",
   "version": "3.9.7"
  }
 },
 "nbformat": 4,
 "nbformat_minor": 5
}
