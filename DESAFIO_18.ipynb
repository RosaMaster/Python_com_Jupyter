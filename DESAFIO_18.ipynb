{
 "cells": [
  {
   "cell_type": "markdown",
   "id": "3d10fd31",
   "metadata": {},
   "source": [
    "# DESAFIO 18 - Python\n",
    "#### Escreva um programa que leia um ângulo qualquer e mostre na tela o valor do seno, cosseno e tangente desse ângulo."
   ]
  },
  {
   "cell_type": "code",
   "execution_count": 10,
   "id": "9c7b7fe8",
   "metadata": {},
   "outputs": [
    {
     "name": "stdout",
     "output_type": "stream",
     "text": [
      "Informe o valor do ângulo: 30\n"
     ]
    }
   ],
   "source": [
    "import math\n",
    "angulo = float(input(\"Informe o valor do ângulo: \"))\n",
    "seno = math.sin(math.radians(angulo))\n",
    "cose = math.cos(math.radians(angulo))\n",
    "tang = math.tan(math.radians(angulo))"
   ]
  },
  {
   "cell_type": "code",
   "execution_count": 11,
   "id": "d5930c93",
   "metadata": {},
   "outputs": [
    {
     "name": "stdout",
     "output_type": "stream",
     "text": [
      "O valor de seno é 0.50\n",
      "O valor de cosseno é 0.87\n",
      "O valor da tangente é 0.58\n"
     ]
    }
   ],
   "source": [
    "print(f\"O valor de seno é {seno:.2f}\")\n",
    "print(f\"O valor de cosseno é {cose:.2f}\")\n",
    "print(f\"O valor da tangente é {tang:.2f}\")"
   ]
  },
  {
   "cell_type": "code",
   "execution_count": null,
   "id": "f973ceb5",
   "metadata": {},
   "outputs": [],
   "source": []
  }
 ],
 "metadata": {
  "kernelspec": {
   "display_name": "Python 3 (ipykernel)",
   "language": "python",
   "name": "python3"
  },
  "language_info": {
   "codemirror_mode": {
    "name": "ipython",
    "version": 3
   },
   "file_extension": ".py",
   "mimetype": "text/x-python",
   "name": "python",
   "nbconvert_exporter": "python",
   "pygments_lexer": "ipython3",
   "version": "3.9.7"
  }
 },
 "nbformat": 4,
 "nbformat_minor": 5
}
