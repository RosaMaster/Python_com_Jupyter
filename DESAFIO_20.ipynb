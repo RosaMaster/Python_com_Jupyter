{
 "cells": [
  {
   "cell_type": "markdown",
   "id": "ec0c700c",
   "metadata": {},
   "source": [
    "# DESAFIO 20 - Python\n",
    "#### O mesmo professor do desafio anterior quer sortear a ordem de apresentação de trabalhos dos alunos. Faça um programa que leia o nome dos quatro alunos e mostre a ordem sorteada."
   ]
  },
  {
   "cell_type": "code",
   "execution_count": 4,
   "id": "6a0b780e",
   "metadata": {},
   "outputs": [
    {
     "name": "stdout",
     "output_type": "stream",
     "text": [
      "Primeiro aluno: A\n",
      "Segundo aluno: B\n",
      "Terceiro aluno: C\n",
      "Quarto aluno: D\n"
     ]
    }
   ],
   "source": [
    "import random\n",
    "n1 = str(input('Primeiro aluno: '))\n",
    "n2 = str(input('Segundo aluno: '))\n",
    "n3 = str(input('Terceiro aluno: '))\n",
    "n4 = str(input('Quarto aluno: '))\n",
    "lista = [n1, n2, n3, n4]"
   ]
  },
  {
   "cell_type": "code",
   "execution_count": 11,
   "id": "3767119d",
   "metadata": {},
   "outputs": [
    {
     "name": "stdout",
     "output_type": "stream",
     "text": [
      "A ordem de apresentação será:\n",
      "['B', 'C', 'D', 'A']\n"
     ]
    }
   ],
   "source": [
    "random.shuffle(lista)\n",
    "print(f\"A ordem de apresentação será:\")\n",
    "print(lista)"
   ]
  },
  {
   "cell_type": "code",
   "execution_count": null,
   "id": "76fc5d99",
   "metadata": {},
   "outputs": [],
   "source": []
  }
 ],
 "metadata": {
  "kernelspec": {
   "display_name": "Python 3 (ipykernel)",
   "language": "python",
   "name": "python3"
  },
  "language_info": {
   "codemirror_mode": {
    "name": "ipython",
    "version": 3
   },
   "file_extension": ".py",
   "mimetype": "text/x-python",
   "name": "python",
   "nbconvert_exporter": "python",
   "pygments_lexer": "ipython3",
   "version": "3.9.7"
  }
 },
 "nbformat": 4,
 "nbformat_minor": 5
}
