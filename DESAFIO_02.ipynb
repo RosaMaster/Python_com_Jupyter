{
 "cells": [
  {
   "cell_type": "markdown",
   "id": "6a87c145",
   "metadata": {},
   "source": [
    "# DESAFIO 02 - Python"
   ]
  },
  {
   "cell_type": "markdown",
   "id": "aa3322f8",
   "metadata": {},
   "source": [
    "### CRIE UM SCRIPT PYTHON QUE LEIA O DIA, MÊS E ANO DE NASCIMENTO DE UMA PESSOA E MOSTRA UMA MENSAGEM COM A DATA FORMATADA."
   ]
  },
  {
   "cell_type": "code",
   "execution_count": 1,
   "id": "064cc327",
   "metadata": {},
   "outputs": [
    {
     "name": "stdout",
     "output_type": "stream",
     "text": [
      "Informe o seu dia de nascimento: 03\n"
     ]
    }
   ],
   "source": [
    "day = input(\"Informe o seu dia de nascimento: \")"
   ]
  },
  {
   "cell_type": "code",
   "execution_count": 2,
   "id": "c847032f",
   "metadata": {},
   "outputs": [
    {
     "name": "stdout",
     "output_type": "stream",
     "text": [
      "Informe o seu mês de nascimento: março\n"
     ]
    }
   ],
   "source": [
    "month = input(\"Informe o seu mês de nascimento: \")"
   ]
  },
  {
   "cell_type": "code",
   "execution_count": 3,
   "id": "74116782",
   "metadata": {},
   "outputs": [
    {
     "name": "stdout",
     "output_type": "stream",
     "text": [
      "Informe o seu ano de nascimento: 1992\n"
     ]
    }
   ],
   "source": [
    "year = input(\"Informe o seu ano de nascimento: \")"
   ]
  },
  {
   "cell_type": "code",
   "execution_count": 5,
   "id": "2c61c4a0",
   "metadata": {},
   "outputs": [
    {
     "name": "stdout",
     "output_type": "stream",
     "text": [
      "Você nasceu no dia 03 de março de 1992. Correto?\n"
     ]
    }
   ],
   "source": [
    "print(f\"Você nasceu no dia {day} de {month} de {year}. Correto?\")"
   ]
  },
  {
   "cell_type": "code",
   "execution_count": null,
   "id": "949388da",
   "metadata": {},
   "outputs": [],
   "source": []
  }
 ],
 "metadata": {
  "kernelspec": {
   "display_name": "Python 3 (ipykernel)",
   "language": "python",
   "name": "python3"
  },
  "language_info": {
   "codemirror_mode": {
    "name": "ipython",
    "version": 3
   },
   "file_extension": ".py",
   "mimetype": "text/x-python",
   "name": "python",
   "nbconvert_exporter": "python",
   "pygments_lexer": "ipython3",
   "version": "3.9.7"
  }
 },
 "nbformat": 4,
 "nbformat_minor": 5
}
