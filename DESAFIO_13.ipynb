{
 "cells": [
  {
   "cell_type": "markdown",
   "id": "303029a3",
   "metadata": {},
   "source": [
    "# DESAFIO 13 - Python\n",
    "#### Faça um algoritmo que leia o salário de um funcionário e mostre seu novo salário, com 15% de aumento."
   ]
  },
  {
   "cell_type": "code",
   "execution_count": 1,
   "id": "1f17a566",
   "metadata": {},
   "outputs": [
    {
     "name": "stdout",
     "output_type": "stream",
     "text": [
      "Informe o valor do salario: R$ 1000\n"
     ]
    }
   ],
   "source": [
    "salario = float(input(\"Informe o valor do salario: R$ \"))\n",
    "acrescimo = salario + (salario * 0.15)"
   ]
  },
  {
   "cell_type": "code",
   "execution_count": 2,
   "id": "c2346eb2",
   "metadata": {},
   "outputs": [
    {
     "name": "stdout",
     "output_type": "stream",
     "text": [
      "O salario atualizado com 15% de aumento ficou R$ 1150.00.\n"
     ]
    }
   ],
   "source": [
    "print(f\"O salario atualizado com 15% de aumento ficou R$ {acrescimo:.2f}.\")"
   ]
  },
  {
   "cell_type": "code",
   "execution_count": null,
   "id": "c9f5fb0b",
   "metadata": {},
   "outputs": [],
   "source": []
  }
 ],
 "metadata": {
  "kernelspec": {
   "display_name": "Python 3 (ipykernel)",
   "language": "python",
   "name": "python3"
  },
  "language_info": {
   "codemirror_mode": {
    "name": "ipython",
    "version": 3
   },
   "file_extension": ".py",
   "mimetype": "text/x-python",
   "name": "python",
   "nbconvert_exporter": "python",
   "pygments_lexer": "ipython3",
   "version": "3.9.7"
  }
 },
 "nbformat": 4,
 "nbformat_minor": 5
}
