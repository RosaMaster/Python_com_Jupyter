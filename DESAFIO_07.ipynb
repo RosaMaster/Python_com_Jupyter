{
 "cells": [
  {
   "cell_type": "markdown",
   "id": "b4feeff5",
   "metadata": {},
   "source": [
    "# DESAFIO 07 - Python\n",
    "#### Desenvolva um programa que leia duas notas de um aluno, calcule e mostre a sua média."
   ]
  },
  {
   "cell_type": "code",
   "execution_count": 6,
   "id": "e25fee69",
   "metadata": {},
   "outputs": [
    {
     "name": "stdout",
     "output_type": "stream",
     "text": [
      "Informe a nota 1: 9\n",
      "Informe a nota 2: 4\n"
     ]
    }
   ],
   "source": [
    "nota1 = int(input(\"Informe a nota 1: \"))\n",
    "nota2 = int(input(\"Informe a nota 2: \"))"
   ]
  },
  {
   "cell_type": "code",
   "execution_count": 7,
   "id": "8952a69d",
   "metadata": {},
   "outputs": [],
   "source": [
    "media = (nota1 + nota2) / 2"
   ]
  },
  {
   "cell_type": "code",
   "execution_count": 8,
   "id": "11eca325",
   "metadata": {},
   "outputs": [
    {
     "name": "stdout",
     "output_type": "stream",
     "text": [
      "A nota média é de 6.5.\n"
     ]
    }
   ],
   "source": [
    "print(f\"A nota média é de {media}.\")"
   ]
  },
  {
   "cell_type": "code",
   "execution_count": null,
   "id": "d5208a21",
   "metadata": {},
   "outputs": [],
   "source": []
  }
 ],
 "metadata": {
  "kernelspec": {
   "display_name": "Python 3 (ipykernel)",
   "language": "python",
   "name": "python3"
  },
  "language_info": {
   "codemirror_mode": {
    "name": "ipython",
    "version": 3
   },
   "file_extension": ".py",
   "mimetype": "text/x-python",
   "name": "python",
   "nbconvert_exporter": "python",
   "pygments_lexer": "ipython3",
   "version": "3.9.7"
  }
 },
 "nbformat": 4,
 "nbformat_minor": 5
}
