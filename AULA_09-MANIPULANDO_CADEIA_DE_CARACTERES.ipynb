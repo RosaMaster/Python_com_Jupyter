{
 "cells": [
  {
   "cell_type": "markdown",
   "id": "00b3565d",
   "metadata": {},
   "source": [
    "# AULA 09 - Python\n",
    "#### MANIPULANDO CADEIA DE CARACTERES (STRING)"
   ]
  },
  {
   "cell_type": "markdown",
   "id": "acf0bc82",
   "metadata": {},
   "source": [
    "##### FATIAMENTO"
   ]
  },
  {
   "cell_type": "code",
   "execution_count": 1,
   "id": "211a40cf",
   "metadata": {},
   "outputs": [],
   "source": [
    "frase = 'Curso em Vídeo Python'"
   ]
  },
  {
   "cell_type": "code",
   "execution_count": 2,
   "id": "9dd53ae9",
   "metadata": {},
   "outputs": [
    {
     "name": "stdout",
     "output_type": "stream",
     "text": [
      "V\n"
     ]
    }
   ],
   "source": [
    "print(frase[9])"
   ]
  },
  {
   "cell_type": "code",
   "execution_count": 3,
   "id": "db42689e",
   "metadata": {},
   "outputs": [
    {
     "name": "stdout",
     "output_type": "stream",
     "text": [
      "Víde\n"
     ]
    }
   ],
   "source": [
    "print(frase[9:13])"
   ]
  },
  {
   "cell_type": "code",
   "execution_count": 4,
   "id": "6d202747",
   "metadata": {},
   "outputs": [
    {
     "name": "stdout",
     "output_type": "stream",
     "text": [
      "Vídeo Python\n"
     ]
    }
   ],
   "source": [
    "print(frase[9:21])"
   ]
  },
  {
   "cell_type": "code",
   "execution_count": 5,
   "id": "94494e74",
   "metadata": {},
   "outputs": [
    {
     "name": "stdout",
     "output_type": "stream",
     "text": [
      "VdoPto\n"
     ]
    }
   ],
   "source": [
    "print(frase[9:21:2])"
   ]
  },
  {
   "cell_type": "code",
   "execution_count": 6,
   "id": "50a2ba38",
   "metadata": {},
   "outputs": [
    {
     "name": "stdout",
     "output_type": "stream",
     "text": [
      "VePh\n"
     ]
    }
   ],
   "source": [
    "print(frase[9::3])"
   ]
  },
  {
   "cell_type": "markdown",
   "id": "9940bbcf",
   "metadata": {},
   "source": [
    "#### ANALISE"
   ]
  },
  {
   "cell_type": "code",
   "execution_count": 7,
   "id": "ac084ce8",
   "metadata": {},
   "outputs": [
    {
     "data": {
      "text/plain": [
       "21"
      ]
     },
     "execution_count": 7,
     "metadata": {},
     "output_type": "execute_result"
    }
   ],
   "source": [
    "len(frase)"
   ]
  },
  {
   "cell_type": "code",
   "execution_count": 8,
   "id": "f5c2212e",
   "metadata": {},
   "outputs": [
    {
     "data": {
      "text/plain": [
       "3"
      ]
     },
     "execution_count": 8,
     "metadata": {},
     "output_type": "execute_result"
    }
   ],
   "source": [
    "frase.count('o')"
   ]
  },
  {
   "cell_type": "code",
   "execution_count": 9,
   "id": "92dae6a0",
   "metadata": {},
   "outputs": [
    {
     "data": {
      "text/plain": [
       "1"
      ]
     },
     "execution_count": 9,
     "metadata": {},
     "output_type": "execute_result"
    }
   ],
   "source": [
    "frase.count('o',0,13)"
   ]
  },
  {
   "cell_type": "code",
   "execution_count": 10,
   "id": "78bcf371",
   "metadata": {},
   "outputs": [
    {
     "data": {
      "text/plain": [
       "11"
      ]
     },
     "execution_count": 10,
     "metadata": {},
     "output_type": "execute_result"
    }
   ],
   "source": [
    "frase.find('deo')"
   ]
  },
  {
   "cell_type": "code",
   "execution_count": 11,
   "id": "0388ea22",
   "metadata": {},
   "outputs": [
    {
     "data": {
      "text/plain": [
       "-1"
      ]
     },
     "execution_count": 11,
     "metadata": {},
     "output_type": "execute_result"
    }
   ],
   "source": [
    "frase.find('Android')"
   ]
  },
  {
   "cell_type": "code",
   "execution_count": 12,
   "id": "82ad1087",
   "metadata": {},
   "outputs": [
    {
     "data": {
      "text/plain": [
       "True"
      ]
     },
     "execution_count": 12,
     "metadata": {},
     "output_type": "execute_result"
    }
   ],
   "source": [
    "'Curso' in frase"
   ]
  },
  {
   "cell_type": "markdown",
   "id": "1438cad0",
   "metadata": {},
   "source": [
    "#### TRANSFORMAÇÂO"
   ]
  },
  {
   "cell_type": "code",
   "execution_count": 13,
   "id": "e72f0f6f",
   "metadata": {},
   "outputs": [
    {
     "data": {
      "text/plain": [
       "'Curso em Vídeo Android'"
      ]
     },
     "execution_count": 13,
     "metadata": {},
     "output_type": "execute_result"
    }
   ],
   "source": [
    "frase.replace('Python', 'Android')"
   ]
  },
  {
   "cell_type": "code",
   "execution_count": 14,
   "id": "41467386",
   "metadata": {},
   "outputs": [
    {
     "data": {
      "text/plain": [
       "'CURSO EM VÍDEO PYTHON'"
      ]
     },
     "execution_count": 14,
     "metadata": {},
     "output_type": "execute_result"
    }
   ],
   "source": [
    "frase.upper()"
   ]
  },
  {
   "cell_type": "code",
   "execution_count": 15,
   "id": "e7340187",
   "metadata": {},
   "outputs": [
    {
     "data": {
      "text/plain": [
       "'curso em vídeo python'"
      ]
     },
     "execution_count": 15,
     "metadata": {},
     "output_type": "execute_result"
    }
   ],
   "source": [
    "frase.lower()"
   ]
  },
  {
   "cell_type": "code",
   "execution_count": 16,
   "id": "44269140",
   "metadata": {},
   "outputs": [
    {
     "data": {
      "text/plain": [
       "'Curso em vídeo python'"
      ]
     },
     "execution_count": 16,
     "metadata": {},
     "output_type": "execute_result"
    }
   ],
   "source": [
    "frase.capitalize()"
   ]
  },
  {
   "cell_type": "code",
   "execution_count": 17,
   "id": "01f1deb3",
   "metadata": {},
   "outputs": [
    {
     "data": {
      "text/plain": [
       "'Curso Em Vídeo Python'"
      ]
     },
     "execution_count": 17,
     "metadata": {},
     "output_type": "execute_result"
    }
   ],
   "source": [
    "frase.title()"
   ]
  },
  {
   "cell_type": "code",
   "execution_count": 18,
   "id": "7d68456d",
   "metadata": {},
   "outputs": [
    {
     "data": {
      "text/plain": [
       "'Aprenda Python'"
      ]
     },
     "execution_count": 18,
     "metadata": {},
     "output_type": "execute_result"
    }
   ],
   "source": [
    "frase2 = '   Aprenda Python  ' ### REMOVE ESPAÇO NO  INICIO E FINAL DA STRING\n",
    "frase2.strip()"
   ]
  },
  {
   "cell_type": "code",
   "execution_count": 19,
   "id": "82bf7ed8",
   "metadata": {},
   "outputs": [
    {
     "data": {
      "text/plain": [
       "'   Aprenda Python'"
      ]
     },
     "execution_count": 19,
     "metadata": {},
     "output_type": "execute_result"
    }
   ],
   "source": [
    "frase2.rstrip()"
   ]
  },
  {
   "cell_type": "code",
   "execution_count": 20,
   "id": "ccd0f7c9",
   "metadata": {},
   "outputs": [
    {
     "data": {
      "text/plain": [
       "'Aprenda Python  '"
      ]
     },
     "execution_count": 20,
     "metadata": {},
     "output_type": "execute_result"
    }
   ],
   "source": [
    "frase2.lstrip()"
   ]
  },
  {
   "cell_type": "markdown",
   "id": "231f352e",
   "metadata": {},
   "source": [
    "#### DIVISÃO"
   ]
  },
  {
   "cell_type": "code",
   "execution_count": 26,
   "id": "db2754c7",
   "metadata": {},
   "outputs": [
    {
     "name": "stdout",
     "output_type": "stream",
     "text": [
      "['Curso', 'em', 'Vídeo', 'Python']\n"
     ]
    }
   ],
   "source": [
    "frase3 = frase.split()\n",
    "print(frase3)"
   ]
  },
  {
   "cell_type": "markdown",
   "id": "3fd3f21a",
   "metadata": {},
   "source": [
    "#### JUNÇÂO"
   ]
  },
  {
   "cell_type": "code",
   "execution_count": 25,
   "id": "9ba99cf1",
   "metadata": {},
   "outputs": [
    {
     "data": {
      "text/plain": [
       "'Curso-em-Vídeo-Python'"
      ]
     },
     "execution_count": 25,
     "metadata": {},
     "output_type": "execute_result"
    }
   ],
   "source": [
    "'-'.join(frase3)"
   ]
  },
  {
   "cell_type": "code",
   "execution_count": 27,
   "id": "8fed42a8",
   "metadata": {},
   "outputs": [
    {
     "data": {
      "text/plain": [
       "'Curso_em_Vídeo_Python'"
      ]
     },
     "execution_count": 27,
     "metadata": {},
     "output_type": "execute_result"
    }
   ],
   "source": [
    "'_'.join(frase3)"
   ]
  },
  {
   "cell_type": "code",
   "execution_count": 28,
   "id": "8b2be18a",
   "metadata": {},
   "outputs": [
    {
     "data": {
      "text/plain": [
       "'Curso em Vídeo Python'"
      ]
     },
     "execution_count": 28,
     "metadata": {},
     "output_type": "execute_result"
    }
   ],
   "source": [
    "' '.join(frase3)"
   ]
  },
  {
   "cell_type": "code",
   "execution_count": null,
   "id": "527da9fa",
   "metadata": {},
   "outputs": [],
   "source": []
  }
 ],
 "metadata": {
  "kernelspec": {
   "display_name": "Python 3 (ipykernel)",
   "language": "python",
   "name": "python3"
  },
  "language_info": {
   "codemirror_mode": {
    "name": "ipython",
    "version": 3
   },
   "file_extension": ".py",
   "mimetype": "text/x-python",
   "name": "python",
   "nbconvert_exporter": "python",
   "pygments_lexer": "ipython3",
   "version": "3.9.7"
  }
 },
 "nbformat": 4,
 "nbformat_minor": 5
}
