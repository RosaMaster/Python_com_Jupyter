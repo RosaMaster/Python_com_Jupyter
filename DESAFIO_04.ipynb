{
 "cells": [
  {
   "cell_type": "markdown",
   "id": "e2b4f236",
   "metadata": {},
   "source": [
    "# DESAFIO 04 - Python\n",
    "### CRIE UM SCRIPT PYTHON QUE LEIA ALGO PELO TECLADO E MOSTRE NA TELA O SEU TIPO PRIMITIVO E TODAS AS INFORMAÇÕES POSSÍVEIS SOBRE ELE."
   ]
  },
  {
   "cell_type": "code",
   "execution_count": 9,
   "id": "020fdac2",
   "metadata": {},
   "outputs": [
    {
     "name": "stdout",
     "output_type": "stream",
     "text": [
      "Digite algo: Python@12\n",
      "\n",
      "O tipo primitivo desse valor é <class 'str'>\n",
      "\n",
      "Só tem espaço? False\n",
      "\n",
      "É um número? False\n",
      "\n",
      "É alfabético? False\n",
      "\n",
      "É alfanumérico? False\n",
      "\n",
      "Está em maiúsculas? False\n",
      "\n",
      "Está em minúsculas? False\n"
     ]
    }
   ],
   "source": [
    "palavra = input(\"Digite algo: \")\n",
    "print(f'\\nO tipo primitivo desse valor é {type(palavra)}')\n",
    "print(f'\\nSó tem espaço? {palavra.isspace()}')\n",
    "print(f'\\nÉ um número? {palavra.isnumeric()}')\n",
    "print(f'\\nÉ alfabético? {palavra.isalpha()}')\n",
    "print(f'\\nÉ alfanumérico? {palavra.isalnum()}')\n",
    "print(f'\\nEstá em maiúsculas? {palavra.isupper()}')\n",
    "print(f'\\nEstá em minúsculas? {palavra.islower()}')\n",
    "print(f'\\nEstá capitalizada? {palavra.istitle()}') #### istitle Verifique se cada palavra começa com uma letra maiúscula"
   ]
  },
  {
   "cell_type": "code",
   "execution_count": null,
   "id": "c85b3477",
   "metadata": {},
   "outputs": [],
   "source": []
  }
 ],
 "metadata": {
  "kernelspec": {
   "display_name": "Python 3 (ipykernel)",
   "language": "python",
   "name": "python3"
  },
  "language_info": {
   "codemirror_mode": {
    "name": "ipython",
    "version": 3
   },
   "file_extension": ".py",
   "mimetype": "text/x-python",
   "name": "python",
   "nbconvert_exporter": "python",
   "pygments_lexer": "ipython3",
   "version": "3.9.7"
  }
 },
 "nbformat": 4,
 "nbformat_minor": 5
}
