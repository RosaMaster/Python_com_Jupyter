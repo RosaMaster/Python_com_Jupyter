{
 "cells": [
  {
   "cell_type": "markdown",
   "id": "b0d1abb6",
   "metadata": {},
   "source": [
    "# DESAFIO 26 - Python\n",
    "#### Crie um programa que leia uma frase pelo teclado e mostre:\n",
    "\n",
    "- Quantas vezes aparece a letra \"A\";<br>\n",
    "\n",
    "- Em que posição ela aparece a primeira vez;<br>\n",
    "\n",
    "- Em que posição ela aparece a última vez;<vez>\n"
   ]
  },
  {
   "cell_type": "code",
   "execution_count": 1,
   "id": "ec917b57",
   "metadata": {},
   "outputs": [
    {
     "name": "stdout",
     "output_type": "stream",
     "text": [
      "Digite uma frase: Arara Azul\n"
     ]
    }
   ],
   "source": [
    "frase = str(input(\"Digite uma frase: \")).strip().upper()"
   ]
  },
  {
   "cell_type": "code",
   "execution_count": 2,
   "id": "45cbf43d",
   "metadata": {
    "scrolled": true
   },
   "outputs": [
    {
     "data": {
      "text/plain": [
       "4"
      ]
     },
     "execution_count": 2,
     "metadata": {},
     "output_type": "execute_result"
    }
   ],
   "source": [
    "frase.count('A')"
   ]
  },
  {
   "cell_type": "code",
   "execution_count": 3,
   "id": "1e80301f",
   "metadata": {},
   "outputs": [
    {
     "data": {
      "text/plain": [
       "1"
      ]
     },
     "execution_count": 3,
     "metadata": {},
     "output_type": "execute_result"
    }
   ],
   "source": [
    "frase.find('A')+1"
   ]
  },
  {
   "cell_type": "code",
   "execution_count": 4,
   "id": "b94b8f89",
   "metadata": {},
   "outputs": [
    {
     "data": {
      "text/plain": [
       "7"
      ]
     },
     "execution_count": 4,
     "metadata": {},
     "output_type": "execute_result"
    }
   ],
   "source": [
    "frase.rfind('A')+1"
   ]
  },
  {
   "cell_type": "code",
   "execution_count": null,
   "id": "1bb2bccc",
   "metadata": {},
   "outputs": [],
   "source": []
  }
 ],
 "metadata": {
  "kernelspec": {
   "display_name": "Python 3 (ipykernel)",
   "language": "python",
   "name": "python3"
  },
  "language_info": {
   "codemirror_mode": {
    "name": "ipython",
    "version": 3
   },
   "file_extension": ".py",
   "mimetype": "text/x-python",
   "name": "python",
   "nbconvert_exporter": "python",
   "pygments_lexer": "ipython3",
   "version": "3.9.7"
  }
 },
 "nbformat": 4,
 "nbformat_minor": 5
}
