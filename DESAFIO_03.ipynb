{
 "cells": [
  {
   "cell_type": "markdown",
   "id": "8d2355d1",
   "metadata": {},
   "source": [
    "# DESAFIO 03 - Python"
   ]
  },
  {
   "cell_type": "markdown",
   "id": "d085834c",
   "metadata": {},
   "source": [
    "### CRIE UM SCRIPT PYTHON QUE LEIA DOIS NÉMEROS E TENTE MOSTRAR A SOMA ENTRE ELES."
   ]
  },
  {
   "cell_type": "code",
   "execution_count": 2,
   "id": "7d9d66b3",
   "metadata": {},
   "outputs": [
    {
     "name": "stdout",
     "output_type": "stream",
     "text": [
      "Informe o primeiro número: 45\n"
     ]
    }
   ],
   "source": [
    "number_one = int(input(\"Informe o primeiro número: \"))"
   ]
  },
  {
   "cell_type": "code",
   "execution_count": 3,
   "id": "1226cd2a",
   "metadata": {},
   "outputs": [
    {
     "name": "stdout",
     "output_type": "stream",
     "text": [
      "Informe o segundo número: 20\n"
     ]
    }
   ],
   "source": [
    "number_two = int(input(\"Informe o segundo número: \"))"
   ]
  },
  {
   "cell_type": "code",
   "execution_count": 4,
   "id": "ea43ed9d",
   "metadata": {},
   "outputs": [],
   "source": [
    "soma = number_one + number_two"
   ]
  },
  {
   "cell_type": "code",
   "execution_count": 5,
   "id": "5be37b70",
   "metadata": {},
   "outputs": [
    {
     "name": "stdout",
     "output_type": "stream",
     "text": [
      "A soma de 45 + 20 = 65\n"
     ]
    }
   ],
   "source": [
    "print(f\"A soma de {number_one} + {number_two} = {soma}\")"
   ]
  },
  {
   "cell_type": "code",
   "execution_count": null,
   "id": "582b83f9",
   "metadata": {},
   "outputs": [],
   "source": []
  }
 ],
 "metadata": {
  "kernelspec": {
   "display_name": "Python 3 (ipykernel)",
   "language": "python",
   "name": "python3"
  },
  "language_info": {
   "codemirror_mode": {
    "name": "ipython",
    "version": 3
   },
   "file_extension": ".py",
   "mimetype": "text/x-python",
   "name": "python",
   "nbconvert_exporter": "python",
   "pygments_lexer": "ipython3",
   "version": "3.9.7"
  }
 },
 "nbformat": 4,
 "nbformat_minor": 5
}
