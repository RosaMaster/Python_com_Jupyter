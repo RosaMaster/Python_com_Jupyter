{
 "cells": [
  {
   "cell_type": "markdown",
   "id": "2128392a",
   "metadata": {},
   "source": [
    "# AULA 07 - Python\n",
    "#### OPERADORES"
   ]
  },
  {
   "cell_type": "code",
   "execution_count": 1,
   "id": "64c43f27",
   "metadata": {},
   "outputs": [
    {
     "name": "stdout",
     "output_type": "stream",
     "text": [
      "Informe o primeiro número: 10\n",
      "Informe o segundo número: 5\n"
     ]
    }
   ],
   "source": [
    "n1 = int(input(\"Informe o primeiro número: \"))\n",
    "n2 = int(input(\"Informe o segundo número: \"))"
   ]
  },
  {
   "cell_type": "code",
   "execution_count": 2,
   "id": "8bda40d4",
   "metadata": {},
   "outputs": [
    {
     "name": "stdout",
     "output_type": "stream",
     "text": [
      "A soma é 15\n"
     ]
    }
   ],
   "source": [
    "print(f\"A soma é {n1 + n2}\")"
   ]
  },
  {
   "cell_type": "code",
   "execution_count": 3,
   "id": "d27b35a6",
   "metadata": {},
   "outputs": [
    {
     "name": "stdout",
     "output_type": "stream",
     "text": [
      "A subtração é 5\n"
     ]
    }
   ],
   "source": [
    "print(f\"A subtração é {n1 - n2}\")"
   ]
  },
  {
   "cell_type": "code",
   "execution_count": 4,
   "id": "592c3760",
   "metadata": {},
   "outputs": [
    {
     "name": "stdout",
     "output_type": "stream",
     "text": [
      "A multiplicação é 50\n"
     ]
    }
   ],
   "source": [
    "print(f\"A multiplicação é {n1 * n2}\")"
   ]
  },
  {
   "cell_type": "code",
   "execution_count": 5,
   "id": "45bd7cf0",
   "metadata": {},
   "outputs": [
    {
     "name": "stdout",
     "output_type": "stream",
     "text": [
      "A divisão é 2.0\n",
      "A divisão inteira é 2\n"
     ]
    }
   ],
   "source": [
    "print(f\"A divisão é {n1 / n2}\")\n",
    "print(f\"A divisão inteira é {n1 // n2}\")"
   ]
  },
  {
   "cell_type": "code",
   "execution_count": 6,
   "id": "92b1e6d3",
   "metadata": {},
   "outputs": [
    {
     "name": "stdout",
     "output_type": "stream",
     "text": [
      "A potência de 10 elevado a 5 é 100000\n",
      "A potência de 10 elevado a 5 é 100000\n"
     ]
    }
   ],
   "source": [
    "print(f\"A potência de {n1} elevado a {n2} é {n1 ** n2}\")\n",
    "\n",
    "# OU\n",
    "\n",
    "print(f\"A potência de {n1} elevado a {n2} é {pow(n1, n2)}\")"
   ]
  },
  {
   "cell_type": "code",
   "execution_count": 7,
   "id": "002497f0",
   "metadata": {},
   "outputs": [
    {
     "name": "stdout",
     "output_type": "stream",
     "text": [
      "O resto 10 dividido por 5 é 0\n"
     ]
    }
   ],
   "source": [
    "print(f\"O resto {n1} dividido por {n2} é {n1 % n2}\")"
   ]
  },
  {
   "cell_type": "code",
   "execution_count": 11,
   "id": "e54208e7",
   "metadata": {},
   "outputs": [
    {
     "name": "stdout",
     "output_type": "stream",
     "text": [
      "Divisão com 3 casas decimais é 2.000\n",
      "Divisão com 6 casas decimais é 2.000000\n",
      "Divisão com 9 casas decimais é 2.000000000\n"
     ]
    }
   ],
   "source": [
    "# FORMATO CASA DECIMAL\n",
    "div = n1 / n2\n",
    "print(f\"Divisão com 3 casas decimais é {div:.3f}\")\n",
    "print(f\"Divisão com 6 casas decimais é {div:.6f}\")\n",
    "print(f\"Divisão com 9 casas decimais é {div:.9f}\")"
   ]
  },
  {
   "cell_type": "code",
   "execution_count": 18,
   "id": "ca1c99ef",
   "metadata": {},
   "outputs": [
    {
     "name": "stdout",
     "output_type": "stream",
     "text": [
      "A soma é 15, \n",
      " o produto é 50 e a \n",
      " divisão é 2.000<<<\n",
      "A soma é 15, o produto é 50 e a divisão é 2.000>>>"
     ]
    }
   ],
   "source": [
    "# USANDO FORMATO DIFERENTE DE PRINT\n",
    "s = n1 + n2\n",
    "m = n1 * n2\n",
    "print('A soma é {}, \\n o produto é {} e a \\n divisão é {:.3f}'.format(s, m , div), end='<<<')\n",
    "print('\\nA soma é {}, o produto é {} e a divisão é {:.3f}'.format(s, m , div), end='>>>')"
   ]
  },
  {
   "cell_type": "code",
   "execution_count": null,
   "id": "7c47fd75",
   "metadata": {},
   "outputs": [],
   "source": []
  }
 ],
 "metadata": {
  "kernelspec": {
   "display_name": "Python 3 (ipykernel)",
   "language": "python",
   "name": "python3"
  },
  "language_info": {
   "codemirror_mode": {
    "name": "ipython",
    "version": 3
   },
   "file_extension": ".py",
   "mimetype": "text/x-python",
   "name": "python",
   "nbconvert_exporter": "python",
   "pygments_lexer": "ipython3",
   "version": "3.9.7"
  }
 },
 "nbformat": 4,
 "nbformat_minor": 5
}
