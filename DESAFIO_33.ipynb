{
 "cells": [
  {
   "cell_type": "markdown",
   "id": "fae8ba31",
   "metadata": {},
   "source": [
    "# DESAFIO 33 - Python\n",
    "#### Crie um programa que leia três números e mostre qual é o maior e qual é o menor."
   ]
  },
  {
   "cell_type": "code",
   "execution_count": 2,
   "id": "1ccffddc",
   "metadata": {},
   "outputs": [
    {
     "name": "stdout",
     "output_type": "stream",
     "text": [
      "Digite um valor para N1: 5\n",
      "Digite um valor para N2: 7\n",
      "Digite um valor para N3: 9\n",
      "O valor 9 de n3 é o maior.\n",
      "O valor 5 de n1 é o menor.\n"
     ]
    }
   ],
   "source": [
    "n1 = int(input(\"Digite um valor para N1: \"))\n",
    "n2 = int(input(\"Digite um valor para N2: \"))\n",
    "n3 = int(input(\"Digite um valor para N3: \"))\n",
    "\n",
    "# Verificação maior número\n",
    "if (n1 > n2) and (n1 > n3):\n",
    "    print(f\"O valor {n1} de n1 é o maior.\")\n",
    "if (n2 > n1) and (n2 > n3):\n",
    "    print(f\"O valor {n2} de n2 é o maior.\")\n",
    "if (n3 > n1) and (n3 > n2):\n",
    "    print(f\"O valor {n3} de n3 é o maior.\")\n",
    "\n",
    "# Verificação menor número\n",
    "if (n1 < n2) and (n1 < n3):\n",
    "    print(f\"O valor {n1} de n1 é o menor.\")\n",
    "if (n2 < n1) and (n2 < n3):\n",
    "    print(f\"O valor {n2} de n2 é o menor.\")\n",
    "if (n3 < n1) and (n3 < n2):\n",
    "    print(f\"O valor {n3} de n3 é o menor.\")"
   ]
  },
  {
   "cell_type": "markdown",
   "id": "5a2d1991",
   "metadata": {},
   "source": [
    "### Resolução alternativa"
   ]
  },
  {
   "cell_type": "code",
   "execution_count": null,
   "id": "6a20edce",
   "metadata": {},
   "outputs": [],
   "source": [
    "n1 = int(input(\"Digite um valor para N1: \"))\n",
    "n2 = int(input(\"Digite um valor para N2: \"))\n",
    "n3 = int(input(\"Digite um valor para N3: \"))\n",
    "\n",
    "# Verificação maior número\n",
    "menor = n1\n",
    "if (n1 < n2) and (n2 > n3):\n",
    "    print(f\"O valor {n1} de n1 é o maior.\")\n",
    "if (n3 < n1) and (n3 < n3):\n",
    "    print(f\"O valor {n2} de n2 é o maior.\")\n",
    "if (n3 > n1) and (n3 > n2):\n",
    "    print(f\"O valor {n3} de n3 é o maior.\")"
   ]
  }
 ],
 "metadata": {
  "kernelspec": {
   "display_name": "Python 3 (ipykernel)",
   "language": "python",
   "name": "python3"
  },
  "language_info": {
   "codemirror_mode": {
    "name": "ipython",
    "version": 3
   },
   "file_extension": ".py",
   "mimetype": "text/x-python",
   "name": "python",
   "nbconvert_exporter": "python",
   "pygments_lexer": "ipython3",
   "version": "3.9.7"
  }
 },
 "nbformat": 4,
 "nbformat_minor": 5
}
