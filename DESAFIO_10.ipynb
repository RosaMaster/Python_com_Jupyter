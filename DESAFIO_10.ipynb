{
 "cells": [
  {
   "cell_type": "markdown",
   "id": "aff18869",
   "metadata": {},
   "source": [
    "# DESAFIO 10 - Python\n",
    "#### Crie um programa que leia quanto dinheiro uma pessoa tem na carteira e moste quantos dólares ela pode comprar.\n",
    "##### Considere dólar US$ 1,00 =  real R$ 3,27"
   ]
  },
  {
   "cell_type": "code",
   "execution_count": 10,
   "id": "1148aeff",
   "metadata": {},
   "outputs": [
    {
     "name": "stdout",
     "output_type": "stream",
     "text": [
      "Quanto de dinheiro você tem na carteira: 30.27\n"
     ]
    }
   ],
   "source": [
    "valor = float(input(\"Quanto de dinheiro você tem na carteira: \"))"
   ]
  },
  {
   "cell_type": "code",
   "execution_count": 11,
   "id": "4da7856c",
   "metadata": {},
   "outputs": [
    {
     "name": "stdout",
     "output_type": "stream",
     "text": [
      "Com R$ 30.27 você consegue comprar US$ 9.26\n",
      "<class 'float'>\n"
     ]
    }
   ],
   "source": [
    "cambio = valor / 3.27\n",
    "print(f\"Com R$ {valor:.2f} você consegue comprar US$ {cambio:.2f}\")\n",
    "print(type(cambio))"
   ]
  },
  {
   "cell_type": "code",
   "execution_count": null,
   "id": "61ceb0c8",
   "metadata": {},
   "outputs": [],
   "source": []
  }
 ],
 "metadata": {
  "kernelspec": {
   "display_name": "Python 3 (ipykernel)",
   "language": "python",
   "name": "python3"
  },
  "language_info": {
   "codemirror_mode": {
    "name": "ipython",
    "version": 3
   },
   "file_extension": ".py",
   "mimetype": "text/x-python",
   "name": "python",
   "nbconvert_exporter": "python",
   "pygments_lexer": "ipython3",
   "version": "3.9.7"
  }
 },
 "nbformat": 4,
 "nbformat_minor": 5
}
