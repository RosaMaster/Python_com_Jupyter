{
 "cells": [
  {
   "cell_type": "markdown",
   "id": "9c3e4e6b",
   "metadata": {},
   "source": [
    "# DESAFIO 19 - Python\n",
    "#### Um professor quer sortear um dos seus quatro alunos para apagar o quadro. Faça um progrma que ajude ele. lendo o nome deles e escrevendo o nome escolhido."
   ]
  },
  {
   "cell_type": "code",
   "execution_count": 10,
   "id": "bb8b6a19",
   "metadata": {},
   "outputs": [
    {
     "name": "stdout",
     "output_type": "stream",
     "text": [
      "Primeiro aluno: ana\n",
      "Segundo aluno: paulo\n",
      "Terceiro aluno: carlos\n",
      "Quarto aluno: maria\n"
     ]
    }
   ],
   "source": [
    "import random\n",
    "n1 = str(input('Primeiro aluno: '))\n",
    "n2 = str(input('Segundo aluno: '))\n",
    "n3 = str(input('Terceiro aluno: '))\n",
    "n4 = str(input('Quarto aluno: '))\n",
    "lista = [n1, n2, n3, n4]"
   ]
  },
  {
   "cell_type": "code",
   "execution_count": 17,
   "id": "8a3a6d1a",
   "metadata": {},
   "outputs": [
    {
     "name": "stdout",
     "output_type": "stream",
     "text": [
      "O aluno escolhido foi carlos.\n"
     ]
    }
   ],
   "source": [
    "escolhido = random.choice(lista)\n",
    "print(f\"O aluno escolhido foi {escolhido}.\")"
   ]
  },
  {
   "cell_type": "code",
   "execution_count": null,
   "id": "c653e6e9",
   "metadata": {},
   "outputs": [],
   "source": []
  }
 ],
 "metadata": {
  "kernelspec": {
   "display_name": "Python 3 (ipykernel)",
   "language": "python",
   "name": "python3"
  },
  "language_info": {
   "codemirror_mode": {
    "name": "ipython",
    "version": 3
   },
   "file_extension": ".py",
   "mimetype": "text/x-python",
   "name": "python",
   "nbconvert_exporter": "python",
   "pygments_lexer": "ipython3",
   "version": "3.9.7"
  }
 },
 "nbformat": 4,
 "nbformat_minor": 5
}
