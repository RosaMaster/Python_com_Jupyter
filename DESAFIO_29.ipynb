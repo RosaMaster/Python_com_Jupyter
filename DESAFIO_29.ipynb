{
 "cells": [
  {
   "cell_type": "markdown",
   "id": "813b194e",
   "metadata": {},
   "source": [
    "# DESAFIO 29 - Python\n",
    "#### Escreva um programa que leia a velocidade de um carro.\n",
    "\n",
    "#### Se ele ultrapassar 80 Km/h, mostre uma mensagem dizendo que ele foi multado.\n",
    "\n",
    "#### A multa vais custar RS 7,00 por cada KM acima do limite.\n"
   ]
  },
  {
   "cell_type": "code",
   "execution_count": 14,
   "id": "c60f1faa",
   "metadata": {},
   "outputs": [
    {
     "name": "stdout",
     "output_type": "stream",
     "text": [
      "Informe a velocidade do veículo em Km/h: 100\n"
     ]
    }
   ],
   "source": [
    "speed = int(input(\"Informe a velocidade do veículo em Km/h: \"))"
   ]
  },
  {
   "cell_type": "code",
   "execution_count": 15,
   "id": "dea4b4fe",
   "metadata": {},
   "outputs": [
    {
     "name": "stdout",
     "output_type": "stream",
     "text": [
      "MULTADO!!! VocÊ excedeu o limite permitido que é de 80 Km/h.\n",
      "O valor da multa é de R$ 140.00 reais.\n"
     ]
    }
   ],
   "source": [
    "if speed > 80:\n",
    "    multa = speed - 80\n",
    "    valor = float(multa * 7)\n",
    "    print(f\"MULTADO!!! VocÊ excedeu o limite permitido que é de 80 Km/h.\")\n",
    "    print(f\"O valor da multa é de R$ {valor:.2f} reais.\")\n",
    "else:\n",
    "    print(\"Tenha um bom dia! Dirija com segurança!\")"
   ]
  },
  {
   "cell_type": "code",
   "execution_count": null,
   "id": "7d49c217",
   "metadata": {},
   "outputs": [],
   "source": []
  },
  {
   "cell_type": "code",
   "execution_count": null,
   "id": "86ab429f",
   "metadata": {},
   "outputs": [],
   "source": []
  }
 ],
 "metadata": {
  "kernelspec": {
   "display_name": "Python 3 (ipykernel)",
   "language": "python",
   "name": "python3"
  },
  "language_info": {
   "codemirror_mode": {
    "name": "ipython",
    "version": 3
   },
   "file_extension": ".py",
   "mimetype": "text/x-python",
   "name": "python",
   "nbconvert_exporter": "python",
   "pygments_lexer": "ipython3",
   "version": "3.9.7"
  }
 },
 "nbformat": 4,
 "nbformat_minor": 5
}
