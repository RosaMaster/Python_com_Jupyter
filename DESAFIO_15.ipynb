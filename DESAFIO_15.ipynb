{
 "cells": [
  {
   "cell_type": "markdown",
   "id": "a90e667a",
   "metadata": {},
   "source": [
    "# DESAFIO 15 - Python\n",
    "#### Escreva um programa que pergunte a quantidade de Km percorridos por um carro alugado e a quantidade de dias pelos quais ele foi alugado. Calcule o preço a pagar, sabendo que o carro custa RS 60 por dia e RS 0,15 por Km rodado."
   ]
  },
  {
   "cell_type": "code",
   "execution_count": 3,
   "id": "b2922a3e",
   "metadata": {},
   "outputs": [
    {
     "name": "stdout",
     "output_type": "stream",
     "text": [
      "Quantos dias o carro foi locado: 3\n",
      "Quantos Km foram percorridos: 350\n"
     ]
    }
   ],
   "source": [
    "days = int(input(\"Quantos dias o carro foi locado: \"))\n",
    "km = float(input(\"Quantos Km foram percorridos: \"))\n",
    "total = (60 * days) + (0.15 * km)"
   ]
  },
  {
   "cell_type": "code",
   "execution_count": 4,
   "id": "e9281dfb",
   "metadata": {},
   "outputs": [
    {
     "name": "stdout",
     "output_type": "stream",
     "text": [
      "O valor total é R$ 232.50.\n"
     ]
    }
   ],
   "source": [
    "print(f\"O valor total é R$ {total:.2f}.\")"
   ]
  },
  {
   "cell_type": "code",
   "execution_count": null,
   "id": "81cd6b12",
   "metadata": {},
   "outputs": [],
   "source": []
  }
 ],
 "metadata": {
  "kernelspec": {
   "display_name": "Python 3 (ipykernel)",
   "language": "python",
   "name": "python3"
  },
  "language_info": {
   "codemirror_mode": {
    "name": "ipython",
    "version": 3
   },
   "file_extension": ".py",
   "mimetype": "text/x-python",
   "name": "python",
   "nbconvert_exporter": "python",
   "pygments_lexer": "ipython3",
   "version": "3.9.7"
  }
 },
 "nbformat": 4,
 "nbformat_minor": 5
}
