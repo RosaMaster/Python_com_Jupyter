{
 "cells": [
  {
   "cell_type": "markdown",
   "id": "23d4582b",
   "metadata": {},
   "source": [
    "# DESAFIO 22 - Python\n",
    "#### Crie um progrmama que leia o nome completo de uma pessoa e mostre:\n",
    "- O nome com todos asletras maiúsculas;\n",
    "- O nome com todas as letras minúsculas;\n",
    "- Quantas letras ao todo (sem considerar espaços);\n",
    "- Quantas letras tem o primeiro nome;"
   ]
  },
  {
   "cell_type": "code",
   "execution_count": 1,
   "id": "531b437d",
   "metadata": {},
   "outputs": [
    {
     "name": "stdout",
     "output_type": "stream",
     "text": [
      "Digite o nome completo: Eduardo Rosa da Silva\n"
     ]
    }
   ],
   "source": [
    "name = str(input('Digite o nome completo: ')).strip()"
   ]
  },
  {
   "cell_type": "code",
   "execution_count": 2,
   "id": "fa015a09",
   "metadata": {},
   "outputs": [
    {
     "data": {
      "text/plain": [
       "'EDUARDO ROSA DA SILVA'"
      ]
     },
     "execution_count": 2,
     "metadata": {},
     "output_type": "execute_result"
    }
   ],
   "source": [
    "name.upper()"
   ]
  },
  {
   "cell_type": "code",
   "execution_count": 3,
   "id": "00db907f",
   "metadata": {},
   "outputs": [
    {
     "data": {
      "text/plain": [
       "'eduardo rosa da silva'"
      ]
     },
     "execution_count": 3,
     "metadata": {},
     "output_type": "execute_result"
    }
   ],
   "source": [
    "name.lower()"
   ]
  },
  {
   "cell_type": "markdown",
   "id": "360ac982",
   "metadata": {},
   "source": [
    "##### Contando todos os caracteres Método 01"
   ]
  },
  {
   "cell_type": "code",
   "execution_count": 4,
   "id": "6dd5ff00",
   "metadata": {},
   "outputs": [
    {
     "name": "stdout",
     "output_type": "stream",
     "text": [
      "['Eduardo', 'Rosa', 'da', 'Silva']\n",
      "EduardoRosadaSilva\n"
     ]
    },
    {
     "data": {
      "text/plain": [
       "18"
      ]
     },
     "execution_count": 4,
     "metadata": {},
     "output_type": "execute_result"
    }
   ],
   "source": [
    "name2 = name.split()\n",
    "print(name2)\n",
    "name3 = ''.join(name2)\n",
    "print(name3)\n",
    "len(name3)"
   ]
  },
  {
   "cell_type": "markdown",
   "id": "72a86146",
   "metadata": {},
   "source": [
    "##### Contando todos os caracteres Método 02"
   ]
  },
  {
   "cell_type": "code",
   "execution_count": 5,
   "id": "5d3830b0",
   "metadata": {},
   "outputs": [
    {
     "name": "stdout",
     "output_type": "stream",
     "text": [
      "Seu nome tem ao todo 18 letras.\n"
     ]
    }
   ],
   "source": [
    "print(f\"Seu nome tem ao todo {len(name) - name.count(' ')} letras.\")"
   ]
  },
  {
   "cell_type": "markdown",
   "id": "8809ef75",
   "metadata": {},
   "source": [
    "#### Contando os caracteres do primeiro nome Método 01"
   ]
  },
  {
   "cell_type": "code",
   "execution_count": 6,
   "id": "6f2d9d7d",
   "metadata": {},
   "outputs": [
    {
     "data": {
      "text/plain": [
       "7"
      ]
     },
     "execution_count": 6,
     "metadata": {},
     "output_type": "execute_result"
    }
   ],
   "source": [
    "len(name2[0])"
   ]
  },
  {
   "cell_type": "markdown",
   "id": "9d0bab88",
   "metadata": {},
   "source": [
    "#### Contando os caracteres do primeiro nome Método 02"
   ]
  },
  {
   "cell_type": "code",
   "execution_count": 7,
   "id": "0717dabb",
   "metadata": {},
   "outputs": [
    {
     "name": "stdout",
     "output_type": "stream",
     "text": [
      "Seu primeiro nome tem 7 letras.\n"
     ]
    }
   ],
   "source": [
    "print(f\"Seu primeiro nome tem {name.find(' ')} letras.\")"
   ]
  },
  {
   "cell_type": "code",
   "execution_count": null,
   "id": "9d52a556",
   "metadata": {},
   "outputs": [],
   "source": []
  }
 ],
 "metadata": {
  "kernelspec": {
   "display_name": "Python 3 (ipykernel)",
   "language": "python",
   "name": "python3"
  },
  "language_info": {
   "codemirror_mode": {
    "name": "ipython",
    "version": 3
   },
   "file_extension": ".py",
   "mimetype": "text/x-python",
   "name": "python",
   "nbconvert_exporter": "python",
   "pygments_lexer": "ipython3",
   "version": "3.9.7"
  }
 },
 "nbformat": 4,
 "nbformat_minor": 5
}
