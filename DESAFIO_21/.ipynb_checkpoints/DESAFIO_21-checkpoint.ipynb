{
 "cells": [
  {
   "cell_type": "markdown",
   "id": "d1b95de8",
   "metadata": {},
   "source": [
    "# DESAFIO 21 - Python\n",
    "#### Faça um programa em python que abra e reproduza o áudio de um arquivo MP3."
   ]
  },
  {
   "cell_type": "code",
   "execution_count": null,
   "id": "ccf51596",
   "metadata": {},
   "outputs": [],
   "source": [
    "###  !pip3 install pygame  ### Biblioteca instalada pygame\n"
   ]
  },
  {
   "cell_type": "code",
   "execution_count": 1,
   "id": "5f328285",
   "metadata": {},
   "outputs": [
    {
     "name": "stdout",
     "output_type": "stream",
     "text": [
      "pygame 2.1.2 (SDL 2.0.18, Python 3.9.7)\n",
      "Hello from the pygame community. https://www.pygame.org/contribute.html\n"
     ]
    },
    {
     "data": {
      "text/plain": [
       "<Event(4352-AudioDeviceAdded {'which': 0, 'iscapture': 0})>"
      ]
     },
     "execution_count": 1,
     "metadata": {},
     "output_type": "execute_result"
    }
   ],
   "source": [
    "import pygame as game\n",
    "\n",
    "game.init()\n",
    "game.mixer.music.load('ex021.mp3')\n",
    "game.mixer.music.play()\n",
    "game.event.wait()"
   ]
  },
  {
   "cell_type": "code",
   "execution_count": null,
   "id": "c902f164",
   "metadata": {},
   "outputs": [],
   "source": []
  }
 ],
 "metadata": {
  "kernelspec": {
   "display_name": "Python 3 (ipykernel)",
   "language": "python",
   "name": "python3"
  },
  "language_info": {
   "codemirror_mode": {
    "name": "ipython",
    "version": 3
   },
   "file_extension": ".py",
   "mimetype": "text/x-python",
   "name": "python",
   "nbconvert_exporter": "python",
   "pygments_lexer": "ipython3",
   "version": "3.9.7"
  }
 },
 "nbformat": 4,
 "nbformat_minor": 5
}
