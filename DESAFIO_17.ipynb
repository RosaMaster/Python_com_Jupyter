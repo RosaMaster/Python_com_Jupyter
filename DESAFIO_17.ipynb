{
 "cells": [
  {
   "cell_type": "markdown",
   "id": "19185674",
   "metadata": {},
   "source": [
    "# DESAFIO 17 - Python\n",
    "#### Escreva um programa que leia o comprimento do cateto oposto e cateto adjacente de um triângulo retângulo, calcule e mostre o comprimento da hipotenusa."
   ]
  },
  {
   "cell_type": "code",
   "execution_count": 3,
   "id": "b51da362",
   "metadata": {},
   "outputs": [
    {
     "name": "stdout",
     "output_type": "stream",
     "text": [
      "Informe o valor do cateto oposto: 2\n",
      "Informe o valor do cateto adjacente: 2.5\n"
     ]
    }
   ],
   "source": [
    "import math\n",
    "co = float(input(\"Informe o valor do cateto oposto: \"))\n",
    "ca = float(input(\"Informe o valor do cateto adjacente: \"))\n",
    "hip = (co ** 2 + ca ** 2)"
   ]
  },
  {
   "cell_type": "code",
   "execution_count": 4,
   "id": "111c9da0",
   "metadata": {},
   "outputs": [
    {
     "name": "stdout",
     "output_type": "stream",
     "text": [
      "A a raiz da soma dos catetos ao quadrado é igual a hipotenusa 3.202\n"
     ]
    }
   ],
   "source": [
    "print(f\"A a raiz da soma dos catetos ao quadrado é igual a hipotenusa {math.sqrt(hip):.3f}\")"
   ]
  },
  {
   "cell_type": "code",
   "execution_count": 5,
   "id": "2391c4ed",
   "metadata": {},
   "outputs": [
    {
     "name": "stdout",
     "output_type": "stream",
     "text": [
      "A a raiz da soma dos catetos ao quadrado é igual a hipotenusa 3.202;\n"
     ]
    }
   ],
   "source": [
    "hipotenusa = math.hypot(co, ca)\n",
    "print(f\"A a raiz da soma dos catetos ao quadrado é igual a hipotenusa {hipotenusa:.3f};\")"
   ]
  },
  {
   "cell_type": "code",
   "execution_count": null,
   "id": "80fd604d",
   "metadata": {},
   "outputs": [],
   "source": []
  }
 ],
 "metadata": {
  "kernelspec": {
   "display_name": "Python 3 (ipykernel)",
   "language": "python",
   "name": "python3"
  },
  "language_info": {
   "codemirror_mode": {
    "name": "ipython",
    "version": 3
   },
   "file_extension": ".py",
   "mimetype": "text/x-python",
   "name": "python",
   "nbconvert_exporter": "python",
   "pygments_lexer": "ipython3",
   "version": "3.9.7"
  }
 },
 "nbformat": 4,
 "nbformat_minor": 5
}
