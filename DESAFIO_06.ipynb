{
 "cells": [
  {
   "cell_type": "markdown",
   "id": "c3abdf8b",
   "metadata": {},
   "source": [
    "# DESAFIO 06 - Python\n",
    "#### Crie um algoritmo que leia um número e mostre o seu dobro, triplo e raiz quadrada."
   ]
  },
  {
   "cell_type": "code",
   "execution_count": 1,
   "id": "88095656",
   "metadata": {},
   "outputs": [
    {
     "name": "stdout",
     "output_type": "stream",
     "text": [
      "Informe um número: 100\n"
     ]
    }
   ],
   "source": [
    "num = int(input(\"Informe um número: \"))"
   ]
  },
  {
   "cell_type": "code",
   "execution_count": 7,
   "id": "2ee1c75e",
   "metadata": {},
   "outputs": [],
   "source": [
    "    dobro = num * 2\n",
    "    triplo = num * 3\n",
    "    raiz = num ** (1/2)"
   ]
  },
  {
   "cell_type": "code",
   "execution_count": 8,
   "id": "7ace4eb5",
   "metadata": {},
   "outputs": [
    {
     "name": "stdout",
     "output_type": "stream",
     "text": [
      "O dobro é 200, o triplo é 300, a raiz quadrada é 10.0\n"
     ]
    }
   ],
   "source": [
    "print(f\"O dobro é {dobro}, o triplo é {triplo}, a raiz quadrada é {raiz}\")"
   ]
  },
  {
   "cell_type": "code",
   "execution_count": null,
   "id": "152dd89a",
   "metadata": {},
   "outputs": [],
   "source": []
  }
 ],
 "metadata": {
  "kernelspec": {
   "display_name": "Python 3 (ipykernel)",
   "language": "python",
   "name": "python3"
  },
  "language_info": {
   "codemirror_mode": {
    "name": "ipython",
    "version": 3
   },
   "file_extension": ".py",
   "mimetype": "text/x-python",
   "name": "python",
   "nbconvert_exporter": "python",
   "pygments_lexer": "ipython3",
   "version": "3.9.7"
  }
 },
 "nbformat": 4,
 "nbformat_minor": 5
}
