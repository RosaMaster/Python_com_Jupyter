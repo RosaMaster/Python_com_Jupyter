{
 "cells": [
  {
   "cell_type": "markdown",
   "id": "2fe23646",
   "metadata": {},
   "source": [
    "# DESAFIO 08 - Python\n",
    "#### Escreva um programa que leia um valor em metros e o exiba convertido em centimetros e milimetros.."
   ]
  },
  {
   "cell_type": "code",
   "execution_count": 3,
   "id": "9aeb0524",
   "metadata": {},
   "outputs": [
    {
     "name": "stdout",
     "output_type": "stream",
     "text": [
      "Informe o número de metros a converter: 3\n"
     ]
    }
   ],
   "source": [
    "metro = int(input(\"Informe o número de metros a converter: \"))"
   ]
  },
  {
   "cell_type": "code",
   "execution_count": 6,
   "id": "615c47e2",
   "metadata": {},
   "outputs": [],
   "source": [
    "centimetro = metro * 100\n",
    "milimetro = metro * 1000"
   ]
  },
  {
   "cell_type": "code",
   "execution_count": 7,
   "id": "6476172f",
   "metadata": {},
   "outputs": [
    {
     "name": "stdout",
     "output_type": "stream",
     "text": [
      "O valor de 3 em centimetros é 300\n",
      "\n",
      "e em milimetros é 3000\n"
     ]
    }
   ],
   "source": [
    "print(f\"O valor de {metro} em centimetros é {centimetro}\\n\\ne em milimetros é {milimetro}\")"
   ]
  },
  {
   "cell_type": "code",
   "execution_count": null,
   "id": "19525c97",
   "metadata": {},
   "outputs": [],
   "source": []
  }
 ],
 "metadata": {
  "kernelspec": {
   "display_name": "Python 3 (ipykernel)",
   "language": "python",
   "name": "python3"
  },
  "language_info": {
   "codemirror_mode": {
    "name": "ipython",
    "version": 3
   },
   "file_extension": ".py",
   "mimetype": "text/x-python",
   "name": "python",
   "nbconvert_exporter": "python",
   "pygments_lexer": "ipython3",
   "version": "3.9.7"
  }
 },
 "nbformat": 4,
 "nbformat_minor": 5
}
